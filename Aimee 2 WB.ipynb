{
 "cells": [
  {
   "cell_type": "code",
   "execution_count": 5,
   "metadata": {
    "collapsed": false
   },
   "outputs": [],
   "source": [
    "import time\n",
    "import lda\n",
    "execfile('load_data.py')\n",
    "execfile('nlp_code/corpus.py')\n",
    "execfile('nlp_code/document.py')"
   ]
  },
  {
   "cell_type": "code",
   "execution_count": 2,
   "metadata": {
    "collapsed": false
   },
   "outputs": [
    {
     "name": "stdout",
     "output_type": "stream",
     "text": [
      "(823, 30)\n"
     ]
    },
    {
     "data": {
      "text/plain": [
       "u\"Of all the deprivations of being homeless, the worst was believing I had nothing to give.\\\\n\\\\nA few years ago I found myself homeless. There was no good excuse for it. I had an excellent upbringing, I have a college degree, I had had a career in public relations, but then several things happened at once - I quit working, my mother died, I let my clinical depression go unchecked and untreated and simply lost all my savings, then my home, then my belongings. The only thing I had left was my pride, which isolated me from my friends and family and prevented me from getting the help I needed.\\\\n\\\\nOddly enough, it wasn't the possessions or the stability I missed most - it was the fact that I didn't feel like I was contributing. I wasn't using my talents, and I wasn't donating to things which had always been important to me. I wasn't even volunteering.\\\\n\\\\nI finally got help, entered a shelter run by Inter-Faith Ministries, started taking an anti-depressant, reached out to people and began the long journey back to a productive, happy life. \\\\n\\\\nThe staff at Inter-Faith Ministries might have saved my life. They provided support and friendship when I was still unwilling to involve my friends and family in my 'shame.' They then gave me a job - I started working in one of the homeless shelters as a house manager, something I still do one day a week in spite of the fact that I now work full time as Marketing Coordinator for the organization. While the marketing gig is exciting and certainly in line with my talents and education, I enjoy working with the residents in the shelter too much to stop. I also like to think that my story can help some of them get over the despair and shame of homelessness and regain their lives.\\\\n\\\\nOne of my proudest moments was when I was financially able to begin contributing financially again. My first step was to reinstate my monthly pledge with the local public radio station. That came before I even bought a bed because giving to and supporting others was more important to me in my road back to a 'normal' life than getting my mattress off the floor!\\\\n\\\\nI still don't advertise the fact that I have been homeless. I recently gave a talk to a group that included a couple people who had known me 25 years ago when I worked at the symphony. While it was great to catch up with them - and while it was great to hear them both say they really missed me and were so glad to know I was working with Inter-Faith - I didn't announce that it was because they had housed me for a year while I become whole again. There will always be some shame that I allowed this to happen to myself.\\\\n\\\\nInter-Faith Ministries, while it focuses on services for homeless and low-income people (three shelters, 104 low-income apartments, lunch program, holiday food/coat/toy distribution) also, as its name implies, brings together different faith groups. The organization has been around for 130 years and has always strived to celebrate both the diversity and the similarities of various religions. I like that in one day I can work and talk with Catholics, Hindus, evangelical Christians, Muslims and agnostics. \\\\n\\\\nWe do it on a shoestring budget. We have a wish list a mile long - improvements to our shelters, which all suffer from inadequate kitchens, plumbing and broken beds. We want to start a produce garden to use for meal preparation and to give our residents the opportunity to help and perhaps learn a marketable skill. We want to reinstate an inter-religious study series. \\\\n\\\\nThe main thing, however, is we want...need... to continue to shelter those most in need and save lives. Just like IFM saved mine.\""
      ]
     },
     "execution_count": 2,
     "metadata": {},
     "output_type": "execute_result"
    }
   ],
   "source": [
    "print data.shape\n",
    "documents[0]"
   ]
  },
  {
   "cell_type": "code",
   "execution_count": 3,
   "metadata": {
    "collapsed": false
   },
   "outputs": [
    {
     "name": "stdout",
     "output_type": "stream",
     "text": [
      "counting terms for doc: 0\n",
      "counting terms for doc: 25\n",
      "counting terms for doc: 50\n",
      "counting terms for doc: 75\n",
      "counting terms for doc: 100\n",
      "counting terms for doc: 125\n",
      "counting terms for doc: 150\n",
      "counting terms for doc: 175\n",
      "counting terms for doc: 200\n",
      "counting terms for doc: 225\n",
      "counting terms for doc: 250\n",
      "counting terms for doc: 275\n",
      "counting terms for doc: 300\n",
      "counting terms for doc: 325\n",
      "counting terms for doc: 350\n",
      "counting terms for doc: 375\n",
      "counting terms for doc: 400\n",
      "counting terms for doc: 425\n",
      "counting terms for doc: 450\n",
      "counting terms for doc: 475\n",
      "counting terms for doc: 500\n",
      "counting terms for doc: 525\n",
      "counting terms for doc: 550\n",
      "counting terms for doc: 575\n",
      "counting terms for doc: 600\n",
      "counting terms for doc: 625\n",
      "counting terms for doc: 650\n",
      "counting terms for doc: 675\n",
      "counting terms for doc: 700\n",
      "counting terms for doc: 725\n",
      "counting terms for doc: 750\n",
      "counting terms for doc: 775\n",
      "counting terms for doc: 800\n",
      "counting terms for doc: 0\n",
      "counting terms for doc: 25\n",
      "counting terms for doc: 50\n",
      "counting terms for doc: 75\n",
      "counting terms for doc: 100\n",
      "counting terms for doc: 125\n",
      "counting terms for doc: 150\n",
      "counting terms for doc: 175\n",
      "counting terms for doc: 200\n",
      "counting terms for doc: 225\n",
      "counting terms for doc: 250\n",
      "counting terms for doc: 275\n",
      "counting terms for doc: 300\n",
      "counting terms for doc: 325\n",
      "counting terms for doc: 350\n",
      "counting terms for doc: 375\n",
      "counting terms for doc: 400\n",
      "counting terms for doc: 425\n",
      "counting terms for doc: 450\n",
      "counting terms for doc: 475\n",
      "counting terms for doc: 500\n",
      "counting terms for doc: 525\n",
      "counting terms for doc: 550\n",
      "counting terms for doc: 575\n",
      "counting terms for doc: 600\n",
      "counting terms for doc: 625\n",
      "counting terms for doc: 650\n",
      "counting terms for doc: 675\n",
      "counting terms for doc: 700\n",
      "counting terms for doc: 725\n",
      "counting terms for doc: 750\n",
      "counting terms for doc: 775\n",
      "counting terms for doc: 800\n",
      "Sanity checks:\n",
      "\tTime to build corpus: 6.18563890457\n",
      "\tTerms in first document: [u'depriv' u'be' u'homeless' u'worst' u'wa' u'believ' u'noth' u'give'\n",
      " u'year' u'ago' u'found' u'homeless' u'wa' u'good' u'excus' u'excel'\n",
      " u'upbring' u'colleg' u'degre' u'career' u'public' u'relat' u'sever'\n",
      " u'thing' u'happen' u'onc' u'quit' u'work' u'mother' u'die' u'let'\n",
      " u'clinic' u'depress' u'uncheck' u'untreat' u'simpli' u'lost' u'save'\n",
      " u'home' u'belong' u'onli' u'thing' u'left' u'wa' u'pride' u'isol'\n",
      " u'friend' u'famili' u'prevent' u'get' u'help' u'need' u'noddli' u'enough'\n",
      " u'wasn' u'possess' u'stabil' u'miss' u'wa' u'fact' u'didn' u'feel' u'wa'\n",
      " u'contribut' u'wasn' u'use' u'talent' u'wasn' u'donat' u'thing' u'alway'\n",
      " u'import' u'wasn' u'volunt' u'final' u'got' u'help' u'enter' u'shelter'\n",
      " u'run' u'inter' u'faith' u'ministri' u'start' u'take' u'anti' u'depress'\n",
      " u'reach' u'peopl' u'began' u'journey' u'product' u'happi' u'life' u'nthe'\n",
      " u'staff' u'inter' u'faith' u'ministri' u'might' u'save' u'life' u'provid'\n",
      " u'support' u'friendship' u'wa' u'unwil' u'involv' u'friend' u'famili'\n",
      " u'shame' u'gave' u'job' u'start' u'work' u'homeless' u'shelter' u'hous'\n",
      " u'manag' u'someth' u'day' u'week' u'spite' u'fact' u'work' u'full' u'time'\n",
      " u'market' u'coordin' u'organ' u'market' u'gig' u'excit' u'certainli'\n",
      " u'line' u'talent' u'educ' u'enjoy' u'work' u'resid' u'shelter' u'much'\n",
      " u'stop' u'think' u'stori' u'can' u'help' u'despair' u'shame' u'homeless'\n",
      " u'regain' u'live' u'none' u'proudest' u'moment' u'wa' u'wa' u'financi'\n",
      " u'abl' u'begin' u'contribut' u'financi' u'step' u'wa' u'reinstat'\n",
      " u'monthli' u'pledg' u'local' u'public' u'radio' u'station' u'came'\n",
      " u'befor' u'bought' u'bed' u'becaus' u'give' u'support' u'other' u'wa'\n",
      " u'import' u'road' u'normal' u'life' u'get' u'mattress' u'floor' u'don'\n",
      " u'advertis' u'fact' u'homeless' u'recent' u'gave' u'talk' u'group'\n",
      " u'includ' u'coupl' u'peopl' u'known' u'year' u'ago' u'work' u'symphoni'\n",
      " u'wa' u'great' u'catch' u'wa' u'great' u'hear' u'realli' u'miss' u'glad'\n",
      " u'know' u'wa' u'work' u'inter' u'faith' u'didn' u'announc' u'wa' u'becaus'\n",
      " u'hous' u'year' u'becom' u'whole' u'will' u'alway' u'shame' u'allow'\n",
      " u'thi' u'happen' u'ninter' u'faith' u'ministri' u'focus' u'servic'\n",
      " u'homeless' u'low' u'incom' u'peopl' u'shelter' u'low' u'incom' u'apart'\n",
      " u'lunch' u'program' u'holiday' u'food' u'coat' u'toy' u'distribut' u'it'\n",
      " u'name' u'impli' u'bring' u'togeth' u'differ' u'faith' u'group' u'organ'\n",
      " u'ha' u'around' u'year' u'ha' u'alway' u'strive' u'celebr' u'divers'\n",
      " u'similar' u'variou' u'religion' u'day' u'can' u'work' u'talk' u'cathol'\n",
      " u'hindu' u'evangel' u'christian' u'muslim' u'agnost' u'nwe' u'shoestr'\n",
      " u'budget' u'wish' u'list' u'mile' u'improv' u'shelter' u'suffer'\n",
      " u'inadequ' u'kitchen' u'plumb' u'broken' u'bed' u'want' u'start' u'produc'\n",
      " u'garden' u'use' u'meal' u'prepar' u'give' u'resid' u'opportun' u'help'\n",
      " u'perhap' u'learn' u'market' u'skill' u'want' u'reinstat' u'inter'\n",
      " u'religi' u'studi' u'seri' u'nthe' u'main' u'thing' u'howev' u'want'\n",
      " u'need' u'continu' u'shelter' u'need' u'save' u'live' u'ifm' u'save'\n",
      " u'mine']\n",
      "\tTotal words in corpus: 151571\n",
      "\tNumber docs in corpus: 823\n",
      "\tNumber of unique words in corpus: 10827\n"
     ]
    }
   ],
   "source": [
    "t0 = time.time()\n",
    "corpus = Corpus(documents, 'nlp_code/stopwords.txt', 2)\n",
    "t1 = time.time()\n",
    "\n",
    "corpus.generate_document_term_matrix()\n",
    "corpus.generate_idfv()\n",
    "corpus.generate_tf_idf()\n",
    "termlist = list(corpus.token_set)\n",
    "print 'Sanity checks:'\n",
    "print '\\tTime to build corpus: ' + str(t1 - t0)\n",
    "print '\\tTerms in first document: ' + str(corpus.docs[0].tokens)\n",
    "print '\\tTotal words in corpus: ' + str(corpus.ntotal_tokens)\n",
    "print '\\tNumber docs in corpus: ' + str(corpus.N)\n",
    "print '\\tNumber of unique words in corpus: ' + str(len(corpus.token_set))"
   ]
  },
  {
   "cell_type": "code",
   "execution_count": 7,
   "metadata": {
    "collapsed": false
   },
   "outputs": [],
   "source": [
    "tf_idf_matrix = np.array(corpus.tf_idf, dtype = 'int')\n",
    "\n",
    "model = lda.LDA(n_topics=10, n_iter=1000, random_state=1)\n",
    "time0 = time.time()\n",
    "model.fit(tf_idf_matrix)\n",
    "time1 = time.time()\n",
    "\n",
    "print 'Time spent running LDA: {0}'.format(time1-time0)"
   ]
  },
  {
   "cell_type": "code",
   "execution_count": 13,
   "metadata": {
    "collapsed": false
   },
   "outputs": [
    {
     "name": "stdout",
     "output_type": "stream",
     "text": [
      "10828\n",
      "Topic 0: nicu pacer autism babi neonat born womb kulturec\n",
      "Topic 1: cancer diseas diagnos treatment brain research cure diagnosi\n",
      "Topic 2: student school youth skill teacher dream class program\n",
      "Topic 3: dog adopt rescu cat anim pet foster shelter\n",
      "Topic 4: disabl abus lighthous inc stabl heâ sexual traffick\n",
      "Topic 5: camp camper adapt ski vermont hors cmt write\n",
      "Topic 6: wildlif anim virginia forest flight refug bird fli\n",
      "Topic 7: hi play women everyth room team don return\n",
      "Topic 8: danc music perform art film artist theater dancer\n",
      "Topic 9: villag haiti nepal contribut earthquak women india partner\n"
     ]
    }
   ],
   "source": [
    "topic_word = model.topic_word_  # model.components_ also works\n",
    "n_top_words = 8\n",
    "vocab = np.array(list(corpus.token_set))\n",
    "print len(topic_word[0])\n",
    "for i, topic_dist in enumerate(topic_word):\n",
    "    top_word_idcs = list(np.argsort(topic_dist))\n",
    "    top_word_idcs.reverse()\n",
    "    topic_words = vocab[top_word_idcs[0:n_top_words]]\n",
    "    topic_words = [word.encode('UTF-8') for word in topic_words]\n",
    "    print('Topic {}: {}'.format(i, ' '.join(topic_words)))"
   ]
  },
  {
   "cell_type": "code",
   "execution_count": 65,
   "metadata": {
    "collapsed": false
   },
   "outputs": [
    {
     "name": "stderr",
     "output_type": "stream",
     "text": [
      "WARNING:lda:all zero column in document-term matrix found\n",
      "WARNING:lda:all zero column in document-term matrix found\n",
      "WARNING:lda:all zero column in document-term matrix found\n",
      "WARNING:lda:all zero column in document-term matrix found\n",
      "WARNING:lda:all zero column in document-term matrix found\n",
      "WARNING:lda:all zero column in document-term matrix found\n",
      "WARNING:lda:all zero column in document-term matrix found\n",
      "WARNING:lda:all zero column in document-term matrix found\n",
      "WARNING:lda:all zero column in document-term matrix found\n"
     ]
    }
   ],
   "source": [
    "likelihoods = []\n",
    "iters = 500\n",
    "n_topics_range = range(5,50,5)\n",
    "\n",
    "for nt in n_topics_range:\n",
    "    model = lda.LDA(n_topics=nt, n_iter=iters, random_state=1)\n",
    "    model.fit(tf_idf_matrix)\n",
    "    likelihoods.append(model.loglikelihood())"
   ]
  },
  {
   "cell_type": "code",
   "execution_count": 66,
   "metadata": {
    "collapsed": false
   },
   "outputs": [
    {
     "data": {
      "image/png": "[encoded data removed]",
      "text/plain": [
       "<matplotlib.figure.Figure at 0x11f1aa1d0>"
      ]
     },
     "metadata": {},
     "output_type": "display_data"
    }
   ],
   "source": [
    "import matplotlib.mlab as mlab\n",
    "import matplotlib.pyplot as plt\n",
    "\n",
    "%matplotlib inline\n",
    "line, = plt.plot(n_topics_range, likelihoods, linewidth=2)\n",
    "\n",
    "plt.show()"
   ]
  },
  {
   "cell_type": "code",
   "execution_count": 20,
   "metadata": {
    "collapsed": false
   },
   "outputs": [
    {
     "name": "stderr",
     "output_type": "stream",
     "text": [
      "WARNING:lda:all zero column in document-term matrix found\n",
      "WARNING:lda:all zero column in document-term matrix found\n",
      "WARNING:lda:all zero column in document-term matrix found\n",
      "WARNING:lda:all zero column in document-term matrix found\n",
      "WARNING:lda:all zero column in document-term matrix found\n",
      "WARNING:lda:all zero column in document-term matrix found\n"
     ]
    }
   ],
   "source": [
    "likelihoods = []\n",
    "n_iters_range = [i*10**exp for exp in range(2, 4) for i in range(1, 4)]\n",
    "# [100, 200, 300, 1000, 2000, 3000]\n",
    "n_topics = 20\n",
    "\n",
    "for ni in n_iters_range:\n",
    "    model = lda.LDA(n_topics=n_topics, n_iter=ni, random_state=1)\n",
    "    model.fit(tf_idf_matrix)\n",
    "    likelihoods.append(model.loglikelihood())"
   ]
  },
  {
   "cell_type": "code",
   "execution_count": 21,
   "metadata": {
    "collapsed": false
   },
   "outputs": [
    {
     "data": {
      "image/png": "[encoded data removed]",
      "text/plain": [
       "<matplotlib.figure.Figure at 0x11cd914d0>"
      ]
     },
     "metadata": {},
     "output_type": "display_data"
    }
   ],
   "source": [
    "import matplotlib.mlab as mlab\n",
    "import matplotlib.pyplot as plt\n",
    "\n",
    "%matplotlib inline\n",
    "line, = plt.plot(n_iters_range, likelihoods, linewidth=2)\n",
    "\n",
    "plt.show()"
   ]
  },
  {
   "cell_type": "code",
   "execution_count": 167,
   "metadata": {
    "collapsed": false
   },
   "outputs": [
    {
     "name": "stderr",
     "output_type": "stream",
     "text": [
      "WARNING:lda:all zero column in document-term matrix found\n"
     ]
    },
    {
     "data": {
      "text/plain": [
       "<lda.lda.LDA instance at 0x11f5e7cb0>"
      ]
     },
     "execution_count": 167,
     "metadata": {},
     "output_type": "execute_result"
    }
   ],
   "source": [
    "n_topics, n_iters = [20,1000]\n",
    "model = lda.LDA(n_topics=n_topics, n_iter=n_iters, random_state=2)\n",
    "model.fit(tf_idf_matrix)"
   ]
  },
  {
   "cell_type": "code",
   "execution_count": 188,
   "metadata": {
    "collapsed": false
   },
   "outputs": [
    {
     "name": "stdout",
     "output_type": "stream",
     "text": [
      "Topic 0: museum jewish sweat ach legal nimagin nyc cathol\n",
      "Topic 1: nicu neonat birth womb babi flight fli prematur\n",
      "Topic 2: villag haiti earthquak nepal trip water africa solar\n",
      "Topic 3: danc art perform chicago ski artist vermont adapt\n",
      "Topic 4: anim dog cat rescu adopt wildlif pet foster\n",
      "Topic 5: mental seizur behavior autism prevent suicid weight disord\n",
      "Topic 6: student school power girl youth connect contribut teacher\n",
      "Topic 7: order book english certif send languag paul transcend\n",
      "Topic 8: camp diseas psp cure hors camper research cmt\n",
      "Topic 9: hi play bless room didn return don eye\n",
      "Topic 10: disabl justic addict women traffick abus violenc biani\n",
      "Topic 11: pregnanc forest loss babi sweet georgia preschool reassur\n",
      "Topic 12: aneurysm veteran militari brain ruptur retreat hotel scan\n",
      "Topic 13: net malaria church garden selah intern librari methodist\n",
      "Topic 14: pacer run marathon pasadena runner mile ran race\n",
      "Topic 15: cancer transplant battl hospic chemo treatment leukemia cousin\n",
      "Topic 16: lego robot ethiopia margin method bike neighborhood outstand\n",
      "Topic 17: hondura michael togo salvat refuge theatr dipg ordinari\n",
      "Topic 18: nhe heâ orchestra contain concert tap music symphoni\n",
      "Topic 19: cancer diagnos tumor diagnosi patient brain research lighthous\n"
     ]
    }
   ],
   "source": [
    "topic_word = model.topic_word_  # model.components_ also works\n",
    "n_top_words = 8\n",
    "vocab = np.array(list(corpus.token_set))\n",
    "topic_top_words_dict = {}\n",
    "for i, topic_dist in enumerate(topic_word):\n",
    "    top_word_idcs = list(np.argsort(topic_dist))\n",
    "    top_word_idcs.reverse()\n",
    "    topic_words = vocab[top_word_idcs[0:n_top_words]]\n",
    "    topic_words = [word.encode('UTF-8') for word in topic_words]\n",
    "    topic_top_words_dict[i] = topic_words\n",
    "    print('Topic {}: {}'.format(i, ' '.join(topic_words)))"
   ]
  },
  {
   "cell_type": "code",
   "execution_count": 189,
   "metadata": {
    "collapsed": false
   },
   "outputs": [
    {
     "name": "stdout",
     "output_type": "stream",
     "text": [
      "Giving the gift of a smile.\\nDoesn't get any better than that. We live basically paycheck to almost paycheck and things have always been tight. But a little over 2 years ago my 2 year old was officially diagnosed autistic. And honestly I'd barely heard of it. I cried for days, I sank into a pitty of tears and why me, why my daughter. I felt scared as if I had failed her. Then I googled, I searched, I looked high and low. I found many sites the first one not so helpful, I won't name any names but I'll say they offered me a packet to do a fundraiser and walk for them. However they were unable to help me with any other help as my daughter wasn't in their criteria as considered she was a girl and not a boy and I guess they is more of a boy issue ( funny I've got three girls on various end of the spectrum and not a boy one ) . Then I found Kulturecity and was instantly welcomed, I got various opinions from their 'groupies' on their page . My girls were sent a toy and man the smile on their face that someone they've never met cared enough to send them a gift in the mail was more than enough to warm my heart. I've donated and helped out as much as possible because everything they have it paid forward. However my most memorable donation was a couple of gifts I sent to Santa for autism Christmas. I bet you didn't know we have a special Christmas for our special kids. Many of us received mail to be opened on April ( autism awareness month ) 25th . And many of us cooked and celebrate ( toned down a bit ) same as we do for December 25th. I now try to set aside a little a paycheck for when special events or fundraiser are being done. Because I can not think of a better way to pay it forward. They are the all about the smiles of our kids, my kids, your kids.\n",
      "9\n",
      "[0.0009259259259259262 0.0009259259259259262 0.0009259259259259262\n",
      " 0.01018518518518519 0.07500000000000001 0.02870370370370371\n",
      " 0.056481481481481494 0.0009259259259259262 0.0009259259259259262\n",
      " 0.713888888888889 0.0009259259259259262 0.0009259259259259262\n",
      " 0.0009259259259259262 0.0009259259259259262 0.0009259259259259262\n",
      " 0.056481481481481494 0.03796296296296297 0.01018518518518519\n",
      " 0.0009259259259259262 0.0009259259259259262]\n"
     ]
    },
    {
     "name": "stderr",
     "output_type": "stream",
     "text": [
      "/Users/aimeebarciauskas/anaconda/lib/python2.7/site-packages/IPython/kernel/__main__.py:6: VisibleDeprecationWarning: converting an array with ndim > 0 to an index will result in an error in the future\n"
     ]
    }
   ],
   "source": [
    "doc_topic = model.doc_topic_\n",
    "n_cols = data.shape[1]\n",
    "doc_topic_cols = range(n_cols, n_cols+n_topics)\n",
    "data_plus = np.concatenate((data, doc_topic), axis=1)\n",
    "story_idx = 10\n",
    "obs_story = data_plus.item((story_idx,story_text_column_idx))\n",
    "print obs_story\n",
    "print np.argmax(data_plus[story_idx,:][doc_topic_cols])\n",
    "print data_plus[story_idx,:][doc_topic_cols]"
   ]
  },
  {
   "cell_type": "code",
   "execution_count": 190,
   "metadata": {
    "collapsed": false
   },
   "outputs": [
    {
     "name": "stdout",
     "output_type": "stream",
     "text": [
      "[0, 30, 31, 32, 33, 34, 35, 36, 37, 38, 39, 40, 41, 42, 43, 44, 45, 46, 47, 48, 49]\n"
     ]
    }
   ],
   "source": [
    "# key column, story_text_column, doc_topic columns\n",
    "doc_topic_cols = range(n_cols, n_cols+n_topics)\n",
    "doc_topic_cols.insert(0,0)\n",
    "print doc_topic_cols\n",
    "data_trunc =  data_plus[:,doc_topic_cols]\n",
    "data_trunc[:,0] = map(int, data_trunc[:,0])\n",
    "\n",
    "fmts = ['%3i']\n",
    "fmts.extend(['%10.5f']*n_topics)\n",
    "np.savetxt('data_plus.csv', data_trunc, delimiter=',', fmt=fmts)"
   ]
  },
  {
   "cell_type": "code",
   "execution_count": 191,
   "metadata": {
    "collapsed": false
   },
   "outputs": [
    {
     "name": "stdout",
     "output_type": "stream",
     "text": [
      "[4]\n",
      "[30, 31, 32, 33, 34, 35, 36, 37, 38, 39, 40, 41, 42, 43, 44, 45, 46, 47, 48, 49]\n",
      "[0.0, 13.0, 0.0, 1.0, 66.0, 22.0, 5.0, 2657.0, 16.0, 16.0]\n",
      "[0.10473933649289102 0.0004739336492890996 0.005213270142180096\n",
      " 0.028909952606635075 0.0004739336492890996 0.08578199052132703\n",
      " 0.19478672985781995 0.009952606635071092 0.0004739336492890996\n",
      " 0.5123222748815166 0.0004739336492890996 0.0004739336492890996\n",
      " 0.0004739336492890996 0.005213270142180096 0.0004739336492890996\n",
      " 0.0004739336492890996 0.0004739336492890996 0.0004739336492890996\n",
      " 0.047867298578199054 0.0004739336492890996]\n"
     ]
    },
    {
     "name": "stderr",
     "output_type": "stream",
     "text": [
      "/Users/aimeebarciauskas/anaconda/lib/python2.7/site-packages/IPython/kernel/__main__.py:7: VisibleDeprecationWarning: converting an array with ndim > 0 to an index will result in an error in the future\n"
     ]
    },
    {
     "data": {
      "text/plain": [
       "LinearRegression(copy_X=True, fit_intercept=False, n_jobs=1, normalize=True)"
      ]
     },
     "execution_count": 191,
     "metadata": {},
     "output_type": "execute_result"
    }
   ],
   "source": [
    "from sklearn import linear_model\n",
    "\n",
    "regr = linear_model.LinearRegression(fit_intercept = False, normalize= True)\n",
    "votes_col_idx = np.argwhere(columns == 'votes_total')[0]\n",
    "print votes_col_idx\n",
    "# Train the model using the training sets\n",
    "y = [data.item(i,votes_col_idx) for i in range(data.shape[0])]\n",
    "cols = range(n_cols, n_cols+n_topics)\n",
    "print cols\n",
    "X = data_plus[:,cols]\n",
    "print y[0:10]\n",
    "print X[0,:]\n",
    "\n",
    "regr.fit(X, y)"
   ]
  },
  {
   "cell_type": "code",
   "execution_count": 192,
   "metadata": {
    "collapsed": false
   },
   "outputs": [
    {
     "data": {
      "text/plain": [
       "array([   7.32723325, -123.877785  ,   -4.11172889,  -68.01909993,\n",
       "         98.17188137,  -81.43007607,  189.68948329,  228.07446861,\n",
       "         34.95795512,  229.19184519, -138.53279745,   41.28334167,\n",
       "          4.50233754,  -50.51792315, -164.38405739,  -82.55695172,\n",
       "        -41.41263473,  133.19376593, -132.95772758,  102.99282022])"
      ]
     },
     "execution_count": 192,
     "metadata": {},
     "output_type": "execute_result"
    }
   ],
   "source": [
    "regr.coef_"
   ]
  },
  {
   "cell_type": "code",
   "execution_count": 193,
   "metadata": {
    "collapsed": false
   },
   "outputs": [
    {
     "name": "stdout",
     "output_type": "stream",
     "text": [
      "Topic 0 positively varies with topic 6, cov: 0.000768118438246\n",
      "Topic 2 positively varies with topic 6, cov: 0.000157764825907\n",
      "Topic 3 positively varies with topic 6, cov: 0.000844860412836\n",
      "Topic 6 positively varies with topic 16, cov: 0.000541401785186\n",
      "Topic 6 positively varies with topic 17, cov: 0.00013565441036\n",
      "Topic 9 positively varies with topic 11, cov: 0.000488203679994\n",
      "Topic 9 positively varies with topic 14, cov: 0.000881487542726\n",
      "Topic 9 positively varies with topic 15, cov: 0.000181204713944\n",
      "Topic 9 positively varies with topic 18, cov: 0.000235078419939\n"
     ]
    }
   ],
   "source": [
    "topics_cov = np.cov(X.T)\n",
    "for t1 in range(topics_cov.shape[0]):\n",
    "    for t2 in range(t1+1,topics_cov.shape[1]):\n",
    "        cov_t1t2 = topics_cov.item((t1,t2))\n",
    "        if cov_t1t2 > 0:\n",
    "            print 'Topic {} positively varies with topic {}, cov: {}'.format(t1,t2,cov_t1t2)"
   ]
  },
  {
   "cell_type": "code",
   "execution_count": 194,
   "metadata": {
    "collapsed": false,
    "scrolled": false
   },
   "outputs": [
    {
     "name": "stdout",
     "output_type": "stream",
     "text": [
      "Top document for topic 0 has probability 0.985714285714 and text:\n",
      "Top terms: ['museum', 'jewish', 'sweat', 'ach', 'legal', 'nimagin', 'nyc', 'cathol']\n",
      "Je suis le represantant legal d'une association locale oeuvrants dans la province du Sud kivu AAEV en sigle, Association d'Aide aux Enfants Vilnerables de Sange fans la plaine dela Ruzizi. \\nJ'ai volontairement aide les dans incendies d'un camion citerne Ã Sange, qui a brulÃ© plus des 447 personnes et moi j'avais aidÃ© Ã faire evacuer plus 126 personnes jusqu'Ã l'hopital dont quelques un sont morts et 83 personnes ont trouve la vie.\\nC est vraiment un honneur pour moi quand je rencontre l'un des ces personnes qui me connaissent, je suis tres ravi.\\n\\nEn Darsalaam pour le moment Ã la recherche de financement..\n",
      "\n",
      "\n",
      "\n",
      "Top document for topic 1 has probability 0.809943181818 and text:\n",
      "Top terms: ['nicu', 'neonat', 'birth', 'womb', 'babi', 'flight', 'fli', 'prematur']\n",
      "A NICU SURIVORS STORY & THE POWER OF ME TO WE \\n\\nBorn at The University of Washington Medical Center Neonatal Intensive Care Unit (NICU) at 24 weeks gestation I lost my twin brother Cruz Campos due to extreme premature birth. At 3 weeks old I encountered open heart surgery with no anesthesia weighing 1 pound 3 ounces. As a NICU resident for 4 months I experienced multiple brain bleeds, multiple blood transfusions, & battled chronic lung disease. Concerned with my pro-longed usage of steroids my mom contacted the late physic Silvia Brown when I was 1 years old. Silvia Brown referred my mom to a horse-healer from Oklahoma. I received distance healing and one week later was off steroids. I have been complication free since. As a critical neonate, I had the blessing of receiving great care from both traditional and non-traditional medical professionals. Considering the average outcome of such premature births, I truly feel blessed.\\n\\nGrowing up I was raised to accept all religious and spiritual beliefs. I attended the diverse Mariner high school, have since befriended people from all over the world, and have connected with amazing mentors such as peace activist Jamal Rahman. Since a young age I have been interested in humanitarian work. Thanks to the support of my incredible mom Kathy Papac; I was introduced to the teachings of with humanitarian leaders who have inspired me along my journey. I have had the opportunity to attend events and met with Dr.Larry Dossey, Dr. Bernie Siegel, Deepak Chopra, Marianne Williamson, Dr.Oz, Wayne Dyer, and Amma. My interest in healing medicine and the encouragement of my mom lead me this past August to Brazil where I had the blessing of volunteering at the sanctuary of well-known healer John of God. The leaders I have met continue to inspire my dream of a career in humanitarian aid and medicine. \\n\\nWhen I attended my first WE Day in 2013 as a champion volunteer my life was drastically impacted. WE Day is a celebration put on by Free the Children a non-profit and Me to We a Social Enterprise founded by Marc and Craig Kielburger. Personally I feel that the purpose of WE Day is to provide the opportunity to connect an individual to the spark within themselves to take action for a better world and the bringing together of local and global community so together we may connect as one. WE Day helped spark my cause, inspired me to connect me with an incredible community, and encouraged me to set out on a path that has forever changed my life. \\n\\nTwo weeks after my first WE Day I returned back to NICU at University of Washington Medical Center and became a NICU volunteer. As a volunteer I have reconnected with staff members that took care of me as an NICU patient as well as other NICU staff, NICU families, and NICU patients also known as The NICU Community. Serving as a Neonatal Advisory Board, Council Member it came to my attention that providing a means of resource support, connectivity, and empowerment to the NICU Community on a global level is drastically needed in order to intervene & create sustainable outcomes in preventing Neonatal fatalities world-wide. The ability to provide access to stable long-lasting resource support for NICU parents so that an empowering & healing experience along their NICU journey may become achievable is needed & viable. It is my personal story, continuing journey, & passion for the NICU community that fuels my belief in providing diverse clinical, technological, spiritual, community, material, & medical aid support resources to NICU communities globally so that the Light of Hope can be provided to All.\\n\\nThe NICU stories I have witnessed motivate me to give back to the NICU Community. Seeking to assist and support the NICU Community my mom Co-Founder Kathy Papac and I have started up The Neonatal Womb Foundation.\\nThe Neonatal Womb is a concept as we believe when a Neonatal baby is born the womb that once was is recreated by all within the NICU Community for the baby/babies and their parents. Our mission is to provide NICU babies, parents, families, staff, and facilities the tools to aid in forming and sustaining that womb. Through The Neonatal Womb Foundation we will provide diverse resource support that allows the parents/caretakers to adjust the light and volume within the NICU experience to best fit their needs, abilities and NICU journey. Our local and global outreach programs will work together towards empowering the Neonatal community thru engaging educational, technological, social, and medical aid support. We seek to connect The Neonatal Womb Partners and create solutions towards a stronger, healthier, and cost effective Womb for all.\\n\\nAt this time are just in the beginning stages of forming our organization. We are currently working on launching our first pilot project in our local community of Seattle. Along with the start of the foundation at this time we are writing a book titled The Neonatal Womb Foundation. We seek to engage our local and global NICU Community in voluntarily contributing their personal NICU story with the purpose of sharing a variety of NICU stories in our book. We wish to involve our local and global NICU Community in the book so we may show the world the amazing dynamic of The Neonatal Womb (NICU Community) from the perspective of the womb itself. All personal information will be kept confidential and part of the proceeds from book sales will go towards supporting The Neonatal Womb Foundation and our mission. If you or someone you know is interested in sharing their NICU story (NICU parents/caregivers, NICU Grads, NICU family-members, and NICU health-care providers) with us or wants to learn more about our mission we can be found at www.theneonatalwomb.org \\n\\n\\n\\n\n",
      "\n",
      "\n",
      "\n",
      "Top document for topic 2 has probability 0.694230769231 and text:\n",
      "Top terms: ['villag', 'haiti', 'earthquak', 'nepal', 'trip', 'water', 'africa', 'solar']\n",
      "As a college student, I am planning carbon based fossil fuels out of my future. I am so grateful for those fuel sources, but it is time for me to move on. By supporting the carbon offset fund at USU, I am making a committment to myself and my university to change the way I live. I know that I can have a positive impact on the world around me! Our future is bright if we just work together and be the change we wish to see in the world. Join me in helping USU become carbon neutral. In my picture, I am the guy in the green suit. \\n\\n Check out the fund here: https://sustainability.usu.edu/htm/about/carbon-offset\\n #unselfie #bluegoesgreen #MyGivingStory #MGS #USU\n",
      "\n",
      "\n",
      "\n",
      "Top document for topic 3 has probability 0.718333333333 and text:\n",
      "Top terms: ['danc', 'art', 'perform', 'chicago', 'ski', 'artist', 'vermont', 'adapt']\n",
      "Tennis for All at University of Michigan, Ann Arbor, MI\\nby Bryan Wilkinson\\nI am passionate about wheelchair tennis. When it comes to tennis I want to make sure everyone gets a chance to try the sport and begin to benefit from the activity. It has given me a boost in health and community that ultimately makes my quality of life better. \\nThis is a newer program that is supported by Mt. Brighton Adaptive Sports in Brighton Michigan. This organization is designed to give scholarships to people who want to participate in Skiing, Scuba Diving and Tennis. \\nI have been spending a lot of time (for free) coordinating the tennis program. It has a lot of potential to be something huge and needs the support of #GivingTuesday.\\nhttp://mtbadaptivesports.com/tennis-for-all.php\n",
      "\n",
      "\n",
      "\n",
      "Top document for topic 4 has probability 0.735761589404 and text:\n",
      "Top terms: ['anim', 'dog', 'cat', 'rescu', 'adopt', 'wildlif', 'pet', 'foster']\n",
      "The Wildlife Center of Virginia won me over with those silly bear cubs. Baby bears climbing trees, swinging in hammocks, chewing on each otherâ€™s ears, turning over a plastic igloo and making it a rocking ride, stuffing into dens like clowns in a clown car, playing in the snow. These cubs were mostly orphans who were not old enough to survive in the wild on their own. They were being given a chance by the Wildlife Center of Virginia (WCV).\\n\\nWCV serves so many different functions for varying audiences. Most obviously, they take care of injured Virginia wildlife, but this is only one piece of their mission. Teaching is their goal: going to schools and events with wildlife ambassadors to teach children, bringing vets and students from around the world to be trained on new techniques for healing wildlife, helping non-profits learn best practices in running their own charities, spreading the word about dangers for wild animals (lead poisoning, litter in the roads, protecting turtles on roadways.)\\n\\nAnother way of connecting people with wildlife is through their Outreach to the online community. Live webcams show the ongoing rehabilitation of different animals (owls, eagles, hawks, beaver, opossum, vultures, and, of course, the bear cubs). WCV brings us into their world though their monthly Hospital Cam where you can actually watch the vets, techs and students treat the patients (baby squirrels and baby bunnies are particularly adorable).\\n\\nWCV treats its contributors as part of the family. We learn to accept the unhappy endings for some of the animals, but celebrate the amazing releases back to the wild. And seeing bear cubs run free is the prize for being a member of that family.\\n\\nWildlife Center of Virginia http://wildlifecenter.org/\\n\n",
      "\n",
      "\n",
      "\n",
      "Top document for topic 5 has probability 0.608227848101 and text:\n",
      "Top terms: ['mental', 'seizur', 'behavior', 'autism', 'prevent', 'suicid', 'weight', 'disord']\n",
      "I am thankful for the Obesity Action Coalition. The Obesity Action Coalition (OAC) www.obesityaction.org inspires me to give because their mission is to educate, support and advocate for those affected by obesity. I first found the OAC when I was denied treatment for my obesity. I remember sitting alone in my car and crying. It didn't make sense to me that my insurance would pay for medications, treatments, specialists for several obesity-related health conditions but I was denied treatment for obesity itself. There were treatments available to help me regain my health, relieve the life threatening and debilitating illnesses I was suffering from and prevent the onset of others, how could they deny that?! It didnâ€™t make sense. I felt alone until I found the OAC. I was thankful to know there was an organization that was working to increase access to care and treatment. I knew I had to get involved. I never want anyone to have to go through what I did. There should be no shame in seeking treatment for obesity, health is not a game. Obesity is a disease that affect millions of adults and children, in fact, since millions are affected everyone knows someone, loves someone or may be that someone who is affected like I am. I will always be a person affected by obesity, it's a chronic disease requiring reassessing and adjusting throughout life but today I am healthier and stronger and thankful for the OAC. \\n\\nThe OAC provides wonderful free resources to educate the public about obesity, its causes, effects and helping people gain access to the science-based obesity treatment methods available for those that seek them. So much misinformation is out there about obesity and while people often mean well that misinformation can be harmful or worse. The OAC helps distinguish the science from the scams. The OAC also conducts advocacy efforts throughout the U.S. on both the state and national levels educating policymakers about obesity and how treating obesity can help prevent, or lessen the impact, of so many obesity-related conditions. The OAC fights to eliminate bias and stigma those affected by obesity face in world by shining a light on the insensitivity (and sadly often cruelty) those affected by obesity face in schools, workplaces, media, healthcare, society. I especially love the Your Weight Matters Convention they host each year where Iâ€™ve gained friendships, support and the comfort of knowing I will never be that girl crying alone in my car. The OACâ€™s mission and good works inspires me to give back as a board member and I hope they inspire you too.\\n\n",
      "\n",
      "\n",
      "\n",
      "Top document for topic 6 has probability 0.948214285714 and text:\n",
      "Top terms: ['student', 'school', 'power', 'girl', 'youth', 'connect', 'contribut', 'teacher']\n",
      "Students are Capable of More\\nwww.lssu.edu/foundation\\nI support Lake Superior State University (LSSU) with my time, talents, and treasure. It is amazing to see day in and day out what the students are capable of accomplishing. What is even more exhilarating is knowing that they are capable of doing twice as much if given the support and resources. There is a fund at LSSU that supports student centered projects by allowing them to apply for grants; this is the fund to which I donate. These grants allow students to travel to present their work and receive accolades, complete research projects, utilize classroom lessons in the real world, and so much more. The depth and breadth of projects/causes students are passionate about is astounding. Their passion translates into action and then success. I am inspired to give because this is a pivotal time in their lives - college is a time when students figure out what they love, what they are good at doing, and that they can do more. The day you realize your potential, when you realize you are worth more than you thought, is life-changing. This is why I give.\n",
      "\n",
      "\n",
      "\n",
      "Top document for topic 7 has probability 0.987248322148 and text:\n",
      "Top terms: ['order', 'book', 'english', 'certif', 'send', 'languag', 'paul', 'transcend']\n",
      "Letâ€™s know the meaning of the Universe and Life, to be responsible and kind always. \\nIt will help a lot to know some reflections about that, with the video: Meaning of the Universe and Life https://youtu.be/2FoGkoTd4UY \\nFrom those ideas, we may understand the Purpose of Life is to be assistants of the Mother Nature, in order to avoid suffering. I believe the best way to do that is make a Project, so all of us become Leader of Social Welfare.\\nI can do for you a Certificate of Leader of Social Welfare, if you send me your photo and your information, which will appear on that Certificate. The certificate would be like that I have made at the site www.paulhertre.wix.com/Leader-SW-your-name \\nIn your Certificate, will appear your name and your photography or your logo. Besides the website would be yours with your name or business, as: www.paulhertre.wix.com/name-of-yours or of your business. From that site could be downloaded free of charge my books as your personal gift in English and Spanish language. \\nThe best way to understand the great value of life and its Transcendence is to explain that in order life to exist was necessary to build the Cosmos. In my book 'AWARENESS the Meaning of Life' (VANTAGE PRESS) I explain in a very simple way this fact. I believe is the best way to make a positive motivation, so all of us by conviction, more than by laws or threatens, become more responsible and kind. \\nIn my book â€œBe responsible and our Final Tripâ€_x009d_ it is possible find the convenience to have a Responsible Life, in order to have a life with a positive transcendence forever.\\nThose books are also in Spanish Language with the name: â€œTomar Concienciaâ€_x009d_ and â€œSer responsable y nuestro ultimo viajeâ€_x009d_\\n This is the best aid to the USA and the world in order to have a life at peace with responsibility. Also, we may say is the only one inheritance nobody will be able to take away from our children. As the best aid to do that is Facebook, I have made a certificate for this company, you may find on the site: http://paulhertre.wix.com/welfare-facebook-aid \\nI write with my nickname: Paul Hertre\\nhttp://paulhertre.wix.com/gran-piramide-suprac\n",
      "\n",
      "\n",
      "\n",
      "Top document for topic 8 has probability 0.992490118577 and text:\n",
      "Top terms: ['camp', 'diseas', 'psp', 'cure', 'hors', 'camper', 'research', 'cmt']\n",
      "My mom would have turned 60 this week. If she hadn't lost her battle with a monstrous disease. But in November2013, she did. She battled an extremely rare neurodegenerative disease called Progressive Supra Nuclear Palsy (PSP) for over 6 years, slowly losing ground.\\n\\nHaving to deal with an unexpected sudden death of a loved one is a terrible place to be in. On the contrary, awareness of an impending death is like having to look at an archer slowly sharpen his arrow, with the full knowledge that is being prepared for you and can strike you anytime. You are then at the mercy of a flick of his/His finger. We witnessed this process in all its glory for over 2000 days between 2008 and 2013.\\n\\nâ€œHope Mattersâ€_x009d_ is the tagline of Cure PSP, the most prominent PSP care group in the world. And until much later I did not realize the importance of â€˜hopeâ€™. My mom was a fighter. She fought until the very end. But what matters and what makes her a hero is that she fought with hope until the very end. She knew it was an incurable disease. Yet, she never gave up. She went to every single one of her doctorâ€™s appointments with a hope that there might be some good news waiting for her -- probably some new medicine might have been discovered, or a new surgical procedure might have been found to cure her disease! She never missed a single dose of her medications, hopeful that it will do whatever little good it can. Every time a medication was changed, a dose was altered, she would do her own little test --trying to walk without anyone's support, a task she knew fully well she could not. A test that had almost always ended unfruitfully. Despite some falls and bruises, and multiple rebukes, she would wait for an opportune time, when she could try this without catching anyone's attention. It was only a hope that some medication might have worked and made her condition better.\\n\\nOne of the later symptoms of PSP is a condition called 'dysphagia.' Here, swallowing becomes increasingly difficult as the disease progresses. Let alone giant pills, swallowing even mashed potatoes becomes an ordeal. In her last few months, despite immense pain and discomfort, she went through this pill-swallowing ordeal four times a day, every single day. Even when we missed giving her a dose, mostly to save her the pain and choking that would follow, she would adamantly ask for the pills and willingly go through the ordeal. For me, that's hope, right there, in its purest form. She was hopeful that someday, someone, somewhere, would find a cure to PSP. She fought until her last breath, quite literally here, as on her last breath she choked on a small sip of water. Until the very end, her mind did not give up. It was her body that betrayed, while her hope was present even in the most hopeless situations.\\n\\nSo ladies and gentlemen, here's some unsolicited advice. Never lose hope. When you think that you might miss a goal, a bus, a train, a meeting, or a deadline, walk a little faster, run a little longer, work a little smarter, and try a little harder. Like my mom would often say, 'you never know if you are going to make it until you make it.'\\n\\nWe have supported #CurePSP periodically through small donations. Wearing their 'Hope Matters' wristbands has led to unexpected conversations at unexpected places, giving me a chance to raise awareness. Please #givethanks to CurePSP whose mission it is to raise awareness of this cruel disease and host support group meetings for caregivers and their families. CurePSP also strives to advance research that can cure this Prime of Life debilitating disease.\n",
      "\n",
      "\n",
      "\n",
      "Top document for topic 9 has probability 0.940625 and text:\n",
      "Top terms: ['hi', 'play', 'bless', 'room', 'didn', 'return', 'don', 'eye']\n",
      "I enjoy donating my time at a wonderful ministry in Patrick County, Va. Its known as 'The Jesus House Clothing Ministry'. I have had the great pleasure to volunteer there since the doors where opened in May 2013. It always brings great warmth to me to help give back and to help people in need. I have been in need lots of times in my life, sometimes even in need now. The ministry gives free cothing, shoes, and blankets to the needy. I thank god daily for allowing me to do what I love. I am a people person and meeting lots of people is wonderful, and seeing them leave with nice clothing is a blessing. God is good and I am so thankful that he lead me to this project.\n",
      "\n",
      "\n",
      "\n",
      "Top document for topic 10 has probability 0.783636363636 and text:\n",
      "Top terms: ['disabl', 'justic', 'addict', 'women', 'traffick', 'abus', 'violenc', 'biani']\n",
      "special people at etts.\\nBeeing a trainee at etts was the most impressing time in my life. To experience the possibility of working together with people of at least 7 different nationalities without trouble ,was just amazing.The understanding of the great ideas and efforts to help people whereever they came from, inspired me to give all my best ,helping with my ideas and thoughts. Helping not financially but with love and care for adults as well as children was a great goal of me staying at this fabulous place. Not only giving but taking was possible. I gave my wisdom ,love andadmiration and got back wisdom about different African mentalitys,about unknown people like Uygur,Chinese,Iracky, Macedonian and Nepalese . Igave at the time I stayed with these wonderful People and I would do it again.\\nThank you to the director Dr. Shelefi and his words :Tawehado!\\nAnd : Be prood of your roots!!\\nIwould like to give more! If I only could,I surely would!!!!!\n",
      "\n",
      "\n",
      "\n",
      "Top document for topic 11 has probability 0.557954545455 and text:\n",
      "Top terms: ['pregnanc', 'forest', 'loss', 'babi', 'sweet', 'georgia', 'preschool', 'reassur']\n",
      "When people think about rats in history they probably think about plague, poverty and epidemics and I was basically one of them. And one day I discovered Apopo in a documentary; Even now, when I'm writing these words, I'm smiling, thinking about how this project is really changing life for so many people, thinking how these rats became my new heroes. These animals are trained to detect landmines (don't worry, they're too light to activate landmines mechanisms) and they do it so quickly! Mozambique is now a landmines free country thanks (for a part) to these little animals and their trainers who found and deactivate more than 13,274 of these death devices. Pushing their potential even further, they're now being able to detect Tuberculosis in samples. One rat can evaluate in ten minutes more samples than a lab technician can do in one day. It takes months to educate a rat to perform these tasks but it really worth the investment. Around 80 USD a year to train and feed a hero rat, it's far cheaper than Iron Man's armor or Batman's equipment and it is way more effective.\n",
      "\n",
      "\n",
      "\n",
      "Top document for topic 12 has probability 0.990909090909 and text:\n",
      "Top terms: ['aneurysm', 'veteran', 'militari', 'brain', 'ruptur', 'retreat', 'hotel', 'scan']\n",
      "The Peace Park\\n\\nComing out of solitary retreat was a bit like surfacing from the bottom of a smooth lake. As I walked down the trail of the Peace Park in Poolesville, Maryland, I brought some of that silence with me. My usual chatter had hushed down to monosyllables and a hyper-awareness of the moment: the sunlight through the trees, the soft wind ... and the clang and grind of a backhoe and chainsaws in the distance. \\n\\nClimbing the hill, I saw the future site of the Stupa Park already carved out in a circle below. Today <a href='https://goo.gl/maps/MScCTZsFRPG2'>the eight golden stupas appear on Googlemaps like a necklace lost in the woods</a>, but at the time the construction crew -- mostly women with nine-to-five jobs -- were dragging thin trees to a burn pile in the middle of the clearing. Even the head of the temple, Jetsunma Ahkon Lhamo, was out there clearing brush. I'd left retreat to join the work. \\n\\nThe concept of 'merit' is very Buddhist-y, but the Peace Park is at a Buddhist temple after all. During retreat I'd studied about how one wanted to avoid bad karma, of course, but that one also wanted to accumulate good karma, too. It sounded almost acquisitive to me, like good karma was collecting interest in some spiritual bank in the sky. \\n\\nAs I slid on an over-sized pair of work gloves and grabbed the trunk of a tree a Buddhist nun with a chainsaw had felled, I decided that giving was about personal change. If I was exchanging bad karma (or blah, sit-in-front-of-the-TV karma) for good karma through my actions, than I was also transforming my mind. Everything I did had to start in my mind first, even if wasn't comfortable or natural or easy for me.\\n\\nBy the end of the project, to which I donated time, construction materials paid out of pocket, and a little blood from a rebar injury, it was true. I would not have recognized myself from a few months before. It showed in little ways. I was more of a team player. I was willing to bow to others' expertise. But the real change I felt was more like that retreat: a kind of calm fearlessness. A year after I was in India with only $250 travel money, and unfazed by it. \\n\\nGiving helped me let go of fear and clutching self-protection. And I've had a more exciting life because of it. \\n\\nhttp://www.tara.org\n",
      "\n",
      "\n",
      "\n",
      "Top document for topic 13 has probability 0.918277310924 and text:\n",
      "Top terms: ['net', 'malaria', 'church', 'garden', 'selah', 'intern', 'librari', 'methodist']\n",
      "DearTomorrow, a promise to the future\\n\\nAs a mom to a two year old, it is my job to think about all of the things that I need to do to protect my son and to ensure that he has the best future possible. Many of the things that we, his parents, do for himâ€” put a roof over his head, feed him, make sure he is healthy, think about what schools he should attendâ€” are immediate concerns that we think about every day. But there is another issue that I have just started to think about that will impact his futureâ€”climate change. I worry that the world we are creating for him and for his generation will be more difficult, more unequal, and more polluted. I have wondered whether there is anything that I can do to protect him from this immense challenge that we face.\\n \\nThat is why this year, I decided to become a sustaining donor to a new dynamic start-up non-profit that asks people to think about climate change in relation to their children. It challenges us to take actions in their homes, their communities, and politically to address climate change. Deartomorrow.org is a new online community for people to read, write, and share messages to their children, grandchildren, nieces/nephews and future generations about their promise to take action on climate change.\\n\\nI am investing a small amount of money each month in an organization that I trust to help protect my sonâ€™s future. I am proud to join this movement with people from around the U.S. and other parts of the world who urgently believe that we must act now for tomorrow. \\n\\nTwo moms who believe so strongly in the project are currently working on an unpaid basis as they launch this important project. They are trying to build something big for their kids, for my son, and for all of our children. Please join me in supporting deartomorrow.org, a promise to the future.\\n\\nSincerely,\\n\\nMÃ³nica\\nhttp://www.deartomorrow.org\\n\\nDearTomorrow, una promesa hacia el futuro\\n\\nComo una madre a un hijo de dos aÃ±os, es mi mayor responsabilidad proteger mi hijo y asegurar que tenga el mejor futuro possible. Muchas de las cosas que hacemos como sus padres- como asegurar que tiene techo, darle de comer, asegurar que esta sano, pensar en las escuelas que debe asistir- son preocupaciones inmediatas que nos preocupan cada dia. Pero hay otro tema que nos preocupa tambien- el cambio climÃ¡tico.\\n\\nPor eso, este aÃ±o, decidi ser un donante para apoyar una nueva organizacÃ³n dinÃ¡mica que pide que personas piensen en el cambio climÃ¡tico y como impacta a sus hijos. Nos disafia tomar acciones en nuestras casas, comunidades y politicamente para abordar la problematica del cambio climÃ¡tico. Deartomorrow.org es una nueva comunidad con una plataforma en el internet, o una comunidad â€œen lineaâ€_x009d_, que nos invita a escribir una carta y compartir mensajes a nuestros hijos, nietos, sobrinos/sobrinas y generaciones futuras sobre nuestra promesa de tomar accion sobre el cambio climÃ¡tico.\\n\\nCada mes estoy comprometida a invertir un poco de dinero en esta organizaciÃ³n en la que confÃ­o para ayudarme a proteger el futuro de mi hijo. Estoy orgullosa de formar parte de este movimiento junto con personas en los Estados Unidos u otras partes del mundo quienes urgentemente creen que tenemos que actuar ahora para el futuro.\\n\\nDos madres quien creen tan fuertemente en este proyecto estÃ¡n trabajando sin pago para realizar este sueÃ±o y lanzar el proyecto. Estan construyendo algo grande para sus hijos, mi hijo, y para todos nuestros niÃ±os. Favor de acompaÃ±arme y apoyar a deartomorrow.org, una promesa hacia el futuro.\\n\\nSinceramente,\\n\\nMÃ³nica\\nhttp://www.deartomorrow.org\n",
      "\n",
      "\n",
      "\n",
      "Top document for topic 14 has probability 0.716071428571 and text:\n",
      "Top terms: ['pacer', 'run', 'marathon', 'pasadena', 'runner', 'mile', 'ran', 'race']\n",
      "Since I was a kid,i always inspires me to give. The feeling is so fulfilling. Few years ago, I was able to conduct medical mission to my less privileged townmates in Sto. Tomas, La Union, Philippines. More than 200 families were benefited with the help of Philippine National Police doctors. After this successful medical mission, I have conducted livelihood trainings to the youth, out of school youths, jobless parents, small fishermen and farmers. I taught them how to make milkfish sardines, smoked.fish, ice cream, frozen foods, handicrafts and more. Some politicians in our place were intimidated of what I did. But no one can stop me in reaching out for the less privileged. I may not have tg\n",
      "\n",
      "\n",
      "\n",
      "Top document for topic 15 has probability 0.965454545455 and text:\n",
      "Top terms: ['cancer', 'transplant', 'battl', 'hospic', 'chemo', 'treatment', 'leukemia', 'cousin']\n",
      "Hope For Christmas \\nI have been participating in Relay for Life since I was 14 and lost my Grandfather to lung cancer until about 5 years ago when we relocated for my husband's job. I didn't know anyone, we were hundreds of miles from our loved ones so I found a new way to give while I got my bearings in this new area. Now every year I hand make Christmas ornaments for the Baltimore Hope Lodge for every resident and for each of their care takers. I want to help bring them a little holiday spirit while they are away from home getting the treatment they need. The American Cancer Society has been very important to me through the years, since I lost my Grandfather I've also lost an Uncle, a mentor, and a cousin, have another cousin and my brother-in-law fighting cancer, and my step-mother is a survivor. I look forward to when my daughter is old enough to help make the ornaments with me so I can teach what it means to give back. http://m.cancer.org/treatment/supportprogramsservices/hopelodge/baltimore/baltimore-about-our-facility\n",
      "\n",
      "\n",
      "\n",
      "Top document for topic 16 has probability 0.63152173913 and text:\n",
      "Top terms: ['lego', 'robot', 'ethiopia', 'margin', 'method', 'bike', 'neighborhood', 'outstand']\n",
      "Following an anonymous call to 911, two officers arrive at a home and observe a young man in the backyard methodically hitting a boxing bag and then picking up an axe and chopping wood. This cycle keeps repeating between the boxing bag and chopping wood. - The officers immediately start planning their response and one of the officers â€œpausesâ€_x009d_â€¦ Several months previously, the officer had learned about Autism and realized the methodical actions of the young man matched behaviors he had learned about. Talking to the parents, information is exchanged and the officers waitâ€¦ \\n\\nThe young man is going through a process to calm down and this is his coping strategy. After 10-15 minutes the young man slowly throws his last punch and chops his last log and sits down on a bench. The parents and officers approach the young man and all is calm. \\n\\nAs a result of the Autism Society of Los Angeles providing ongoing training to police officers, the outcome of this encounter was uneventful over what otherwise could have been a much different result â€“ everyone was safe and with their families that evening!\\n\\nThis is why I am inspired to give to Autism Society of Los Angeles â€“ â€œimproving the lives of all affected by autism by empowering individuals with autism, their families, and professionals through advocacy, education, support, and community collaboration.â€_x009d_\\n\n",
      "\n",
      "\n",
      "\n",
      "Top document for topic 17 has probability 0.926923076923 and text:\n",
      "Top terms: ['hondura', 'michael', 'togo', 'salvat', 'refuge', 'theatr', 'dipg', 'ordinari']\n",
      "\\nDecember Tuesday 01, 2015 - January Tuesday 26, 2016\\n\\nALL HAPPY HOLIDAYS â€ª#â€ŽGIVINGTUESDAYâ€¬ EVERYDAY WITH BEST BUDDIES MARYLAND! I LOVE YOU â€ª#â€ŽBBMD20â€¬ â€ª#â€ŽBB5Kâ€¬ â€ª#â€ŽThrowbackThursdayâ€¬\\n$500.000 â€ª#â€ŽPassItForwardâ€¬\\n\\n YOUR PAL\\n MICHAEL ARTHUR TAYLOR JR.,\\n12/01/2015\n",
      "\n",
      "\n",
      "\n",
      "Top document for topic 18 has probability 0.655952380952 and text:\n",
      "Top terms: ['nhe', 'he\\xc3\\xa2', 'orchestra', 'contain', 'concert', 'tap', 'music', 'symphoni']\n",
      "â€œThatâ€™s why we do it!â€_x009d_\\n\\nThe painted wooden window frame, with its layers of blue and green timeworn hues, could reveal a story all of its own. The photo illustrated a scene of one Canadian Caucasian man and the faces of three young Balinese boys, all with their rich chocolate skin, spirited eyes, and wide, toothy smiles. \\nâ€œWhat gorgeous smiles,â€_x009d_ I responded on his Facebook page.\\nâ€œThatâ€™s why I do it,â€_x009d_ he repeated. â€œThatâ€™s what inspires me to give.â€_x009d_\\n â€œThat is what inspires us to give!â€_x009d_ Susan echoed after seeing the photo. It was her partnerâ€™s hundredth-millionth build, this time in Indonesia this past month, with Habitat for Humanity and the Global Village. Magnificent.\\nOk, so it wasnâ€™t his hundredth-millionth build, but heâ€™s been on many. This time, the necessary rerouting of his flight and the closure of three airports, namely the Ngurah Rai airport on Denpasar, Bali, for its overly gaseous Lombok Island Mount Rinjani spewing ash and debris 3,500 metres into the air did nothing to dampen his spirits. Rick is a seasoned traveler and he was prepared for the unexpected events that might befall even the best-laid travel plans. In advance of the build, heâ€™d given himself enough leeway to savour some personal travelling; he just hadnâ€™t expected the exploration to solely comprise the interior of the Singapore airport terminal, but so be it. Travel is more fruitful than simply the journey of getting to a final destination. It is often the surprises along the way that weave the richest yarns. For Rick, his strongest memories were wrapped in the Balineseâ€™s childrenâ€™s abounding smiles. \\nHaving had the privilege of my first Habitat and Global Village experience, I can see myself moving closer to that hundredth build mark. \\nIt truly is all about the smiles.\\nMy exposure to this nonprofit organization began with my daughterâ€™s interest in Susanâ€™s affiliation with Habitat and GV. Each year, twice a year, Susan loads up 15 to 20 secondary students and connects them with humanitarian experiences that change their lives forever. The timing for El Salvador was not ideal for my daughter. Instead, my husband, Jeff, accompanied the school group. The experience for Jeff was meaningful, if not exhausting, with the forty plus Celsius temperatures and dehydration issues, but it wasnâ€™t just the work itself that made it so incredible. It wasnâ€™t the digging of trenches or the slugging of cement or the witnessing of the studentsâ€™ new-found appreciation for their life in Canada. It was all about the smiles.\\nâ€œThatâ€™s why we do itâ€_x009d_ became the team mantra. \\nâ€œThatâ€™s what inspires us to give.â€_x009d_\\nThis was Jeffâ€™s first Habitat for Humanity and Global Village experience. \\nIt wasnâ€™t just about travelling dirt roads by foot or by bike as a tourist would. It wasnâ€™t about taking pictures and tasting unusual foods and tuning in to unique music and dialects. \\nThis trip was different. \\nFortunate to have travelled for work and for pleasure, Jeff has experienced the lives of children around the world: heart-filled and heartfelt. What he expected and what he observed were two very dissimilar scenarios. The Salvadorian children he watched, with their tree-branch hockey sticks and crumpled soda-can pucks, playing what we Canadians would consider street hockey, were the most contented amateur athletes heâ€™d ever seen. Jeff had come prepared, like any true traveler would, to celebrate with a population of avid soccer fans in this Central American culture. Jeff had loaded up his suitcase with deflated soccer balls and mini-pumps from our namesake store, Canadian Tire (Crappy Tire, itâ€™s lovingly referred to here) to bring these street athletes something they couldnâ€™t afford: a soccer ball. Here, in his suitcase, he had packed a dozen crappy plastic spheres that most Canadian kids have piled up in the family garage as last weekâ€™s impulse-cash- register purchase for only a loonie (thatâ€™s a dollar in Canuck). Just a worthless plaything that would soon be destroyed by the dog, by the neighbourhood friends, or simply by neglect. \\nTo the children of El Salvador, it was a real soccer ball to call their own. \\nIt was pure joy. \\nIt was the smile-maker.\\nThatâ€™s what inspired him to give. \\nIt was all about the smiles.\\nThereâ€™s a familiar childrenâ€™s story entitled The Red Balloon. The story has no words, only pictures, but coloured photographical images. Quite an unusual format for a childrenâ€™s book. The protagonist is a young boy living in Paris, France who is followed from his school to the streets to the bullies in the hood, by a red balloon that seems to have the same personality as a puppy. This boy has no friends. Heâ€™s cast out of school for truancy. Heâ€™s pushed out of the family apartment by his mom to get him out of her hair. Heâ€™s ridiculed by boys his age for being a loner and a loser. One day, a red balloon follows him home, and everywhere else for that matter. The balloon skips school to be with him. The balloon plays hide and seek to amuse him. The balloon antagonizes the bullies and defends his new friend, like a real friend would. In the end, the balloon suffers for his friend when the bullies begin throwing rocks and stones at this balloon. The searing Mediterranean sun takes its toll on the balloon as well, taking away its last bits of air and finally forcing it onto the ground to die. The French boy grieves, just as anyone would, when his friend dies. Like a true friend, the balloon stays until the end of its life. In spite of it being a worthless sphere filled with worthless air, all the things we take for granted when we donâ€™t understand the value it offers someone else, this story focusses on friendship, camaraderie, and loyalty. In the case of the Salvadorian children and their cheap Canadian soccer balls, it too is all about friendship, camaraderie, and loyalty; the makings of a special childhood, and all it should be, no matter what part of the world they live in, no matter how much money their single-mother makes or how much disease and sickness has plagued their town. The smiles on those childrenâ€™s faces cannot be purchased for any amount of money. Itâ€™s authentic joy. \\nIf only our mixed-up world could bottle that joy, then maybe, just maybe, our hatred and our ignorance would go away, if only for the time it takes a child to kick a crappy fake FIFA soccer ball into a makeshift net and scream, Bravo!\\nMy experience on our Habitat build just last month in Amaranthe, Portugal was nothing less. The children we met on our final day around a bountiful lunch table of cod, kale, and Coca-Cola showed us smiles that touched our hearts for the wee bit of time and energy we spent rebuilding their dilapidated 1822 stone hovel that they would soon call home. The house would belong to a young girl named Beatrice and her mother, Suzanna. For ten years, they have lived with her aunt and her two cousins. Suzanna was cast out of their grandmotherâ€™s home when she became pregnant while unwed. In the Catholic faith, sex before marriage is sinful; being a strongly devout Catholic family as they were, such humiliation is intolerable. Lucilia, her older sister, who was married and who followed the Ten Commandments as a good Catholic girl should, protected Suzanna, even when she herself had a very young family to raise and a husband working in Switzerland to pay their bills. Lucilia told us she really had four children: her own two girls, her developmentally- challenged sister, Suzanna, and her niece, Beatrice. Life was unfair and had become unbearable. The nonprofit work of Habitat for Humanity and Global Village was their refuge. Our Canadian group of nine was privileged to help restore the deceased grandmotherâ€™s home for Suzanna and her daughter so they could be independent; so Lucilia could live her own life with her own family. \\nLooking back, our week of sledgehammering cement flooring, chiseling old mortar, re-barring and laying a new cement floor and re-mortaring the exterior walls was worth every bruised thumb, every stretched elbow tendon, and every stiff neck we murmured once our final day arrived. \\nBeatrice, who had been at school all week, joined us for lunch on Saturday. It was our goodbye meal with the entire family. A large, Canadian flag, left by a previous Canadian Habitat and Global Village group, had graced the door of the 1950s white refrigerator at the far end of the lunch table. We very much appreciated the warm welcome of our red and white maple leaf in this far-away home. As Beatrice circled our plastic stools and square-tabled lunch oasis, she kissed each of us strangers in her familiar European two-cheek-thank you. She squeezed our gift, the miniature teddy bear in its red and white Canadian attire like any child would and told us she was going to name it Canada. Our collective Canadian eyes welled up for her joy, for her brighter future, for her smile. \\nThat is why we did it. \\nThat is what inspired us to give.\\nIt was all about the smiles.\\nMy daughter, Lexi? She, too, had her own Habitat for Humanity opportunity. Her group of humanitarian-seeking peers from her Connexions class at Waterdown District Secondary traveled to Costa Rica for two weeks to assist a small community with such much-needed restorations as the painting of an arenaâ€™s very sad grey walls, and the rejuvenating of a neglected community green space with a coloured-tiled mosaic pathway, among other various tasks. Her most memorable moments were captured on her iPhone in settings of immeasurable sunsets, suspicious snacks and, above all else, enormous smiles; theirs and those of the children they met in their billeted accommodations. In spite of her challenging on-line Chemistry course and the daunting task of university selection, Lexiâ€™s smile continued to shine through to final exams and beyond. Her Connexions class was her connection to what was really important in life, and the world around her. \\nThat is what inspired her to give. \\nThat is what inspired our family to give. \\nThat is what inspires me to give.\\nIt is all about the joy of living and the joy of giving. \\nIt is all about the smiles. \\n\\nhttp://www.habitat.org/\\n\n",
      "\n",
      "\n",
      "\n",
      "Top document for topic 19 has probability 0.678512396694 and text:\n",
      "Top terms: ['cancer', 'diagnos', 'tumor', 'diagnosi', 'patient', 'brain', 'research', 'lighthous']\n",
      "My life changed the day my daughter was born. I know, I know, every parent's life changes when they have children, but Maddie was different; she was born with a stage IV Neuroblastoma, a rare solid, malignant tumor of the sympathetic nervous system. There were tumors in two places: her spine at T-11 and a nice big tumor by her left kidney encasing two nerves. We knew there was a serious issue immediately at birth since she failed the Agpar test (we tease her that this was the only test she has ever failed :) ). In utero, the tumor had retarded much of the muscle development from her waist down.\\n\\nWe support CNCF http://www.cncfhope.org/ for two reasons: \\n\\n1) Maddie is alive today because of a standardized protocol to treat children from age 0 to 364 days old who are diagnosed with a stage IV Neuroblastoma; this is in large part due to organizations like CNCF who advocate for the development of treatments and the standardization of these treatments across geographies. She fought the disease through spine surgery and chemo for her first year of life and has been cancer free since 11 months old. \\n\\n2) Children who are diagnosed with a Neuroblastoma after 364 days have less optimistic results. At day 365, life expectancy begins to drop precipitously; the median age of diagnosis is 2 years old. Continued funding for research and early detection needs to continue to provide other children the opportunity my daughter had.\\n\\nMaddie was lucky in the fact that she manifested the disease at birth, but many children don't manifest until much, much later and the results are devastating.\\n\\nThe photo is of her in a color run from a few years back.\n",
      "\n",
      "\n",
      "\n"
     ]
    }
   ],
   "source": [
    "top_topic_documents = []\n",
    "\n",
    "for i in range(n_topics):\n",
    "    top_doc_idx = np.argmax(doc_topic[:,i])\n",
    "    top_doc_percentage = np.max(doc_topic[:,i])\n",
    "    document = documents[top_doc_idx]\n",
    "    print \"Top document for topic {} has probability {} and text:\".format(i, top_doc_percentage)\n",
    "    print \"Top terms: {}\".format(topic_top_words_dict[i])\n",
    "    print document\n",
    "    print \"\\n\\n\""
   ]
  },
  {
   "cell_type": "code",
   "execution_count": 195,
   "metadata": {
    "collapsed": false
   },
   "outputs": [
    {
     "name": "stdout",
     "output_type": "stream",
     "text": [
      "Topic 9\n",
      "240.868675614\n",
      "['hi', 'play', 'bless', 'room', 'didn', 'return', 'don', 'eye']\n",
      "\n",
      "Topic 6\n",
      "149.535958541\n",
      "['student', 'school', 'power', 'girl', 'youth', 'connect', 'contribut', 'teacher']\n",
      "\n",
      "Topic 4\n",
      "37.4845332282\n",
      "['anim', 'dog', 'cat', 'rescu', 'adopt', 'wildlif', 'pet', 'foster']\n",
      "\n",
      "Topic 2\n",
      "30.8510212427\n",
      "['villag', 'haiti', 'earthquak', 'nepal', 'trip', 'water', 'africa', 'solar']\n",
      "\n",
      "Topic 8\n",
      "29.4530686596\n",
      "['camp', 'diseas', 'psp', 'cure', 'hors', 'camper', 'research', 'cmt']\n",
      "\n",
      "Topic 17\n",
      "27.600933042\n",
      "['hondura', 'michael', 'togo', 'salvat', 'refuge', 'theatr', 'dipg', 'ordinari']\n",
      "\n",
      "Topic 3\n",
      "27.6000228322\n",
      "['danc', 'art', 'perform', 'chicago', 'ski', 'artist', 'vermont', 'adapt']\n",
      "\n",
      "Topic 10\n",
      "27.2201515421\n",
      "['disabl', 'justic', 'addict', 'women', 'traffick', 'abus', 'violenc', 'biani']\n",
      "\n",
      "Topic 19\n",
      "26.4003456886\n",
      "['cancer', 'diagnos', 'tumor', 'diagnosi', 'patient', 'brain', 'research', 'lighthous']\n",
      "\n",
      "Topic 5\n",
      "24.4775755958\n",
      "['mental', 'seizur', 'behavior', 'autism', 'prevent', 'suicid', 'weight', 'disord']\n",
      "\n",
      "Topic 15\n",
      "24.0911269707\n",
      "['cancer', 'transplant', 'battl', 'hospic', 'chemo', 'treatment', 'leukemia', 'cousin']\n",
      "\n",
      "Topic 7\n",
      "22.3655982434\n",
      "['order', 'book', 'english', 'certif', 'send', 'languag', 'paul', 'transcend']\n",
      "\n",
      "Topic 16\n",
      "22.3000514042\n",
      "['lego', 'robot', 'ethiopia', 'margin', 'method', 'bike', 'neighborhood', 'outstand']\n",
      "\n",
      "Topic 13\n",
      "21.7418367981\n",
      "['net', 'malaria', 'church', 'garden', 'selah', 'intern', 'librari', 'methodist']\n",
      "\n",
      "Topic 12\n",
      "20.9033430173\n",
      "['aneurysm', 'veteran', 'militari', 'brain', 'ruptur', 'retreat', 'hotel', 'scan']\n",
      "\n",
      "Topic 1\n",
      "19.6827777605\n",
      "['nicu', 'neonat', 'birth', 'womb', 'babi', 'flight', 'fli', 'prematur']\n",
      "\n",
      "Topic 0\n",
      "19.6232912089\n",
      "['museum', 'jewish', 'sweat', 'ach', 'legal', 'nimagin', 'nyc', 'cathol']\n",
      "\n",
      "Topic 11\n",
      "18.5441438423\n",
      "['pregnanc', 'forest', 'loss', 'babi', 'sweet', 'georgia', 'preschool', 'reassur']\n",
      "\n",
      "Topic 14\n",
      "17.7233673619\n",
      "['pacer', 'run', 'marathon', 'pasadena', 'runner', 'mile', 'ran', 'race']\n",
      "\n",
      "Topic 18\n",
      "14.5321774072\n",
      "['nhe', 'he\\xc3\\xa2', 'orchestra', 'contain', 'concert', 'tap', 'music', 'symphoni']\n",
      "\n"
     ]
    }
   ],
   "source": [
    "prob_sums = np.sum(doc_topic, axis = 0)\n",
    "top_topics_idcs = list(np.argsort(prob_sums))\n",
    "top_topics_idcs.reverse()\n",
    "for i in range(n_topics):\n",
    "    print 'Topic {}'.format(top_topics_idcs[i])\n",
    "    print prob_sums[top_topics_idcs[i]]    \n",
    "    print topic_top_words_dict[top_topics_idcs[i]]\n",
    "    print ''"
   ]
  },
  {
   "cell_type": "code",
   "execution_count": 198,
   "metadata": {
    "collapsed": false
   },
   "outputs": [
    {
     "data": {
      "text/plain": [
       "Counter({9: 261, 6: 119, 4: 51, 3: 34, 8: 33, 2: 32, 17: 31, 19: 30, 10: 27, 13: 26, 5: 23, 16: 23, 0: 20, 15: 20, 7: 19, 12: 19, 11: 16, 1: 14, 14: 14, 18: 11})"
      ]
     },
     "execution_count": 198,
     "metadata": {},
     "output_type": "execute_result"
    }
   ],
   "source": [
    "from collections import Counter\n",
    "Counter(np.argmax(doc_topic, axis = 1))"
   ]
  },
  {
   "cell_type": "code",
   "execution_count": 183,
   "metadata": {
    "collapsed": false
   },
   "outputs": [
    {
     "name": "stderr",
     "output_type": "stream",
     "text": [
      "/Users/aimeebarciauskas/anaconda/lib/python2.7/site-packages/IPython/kernel/__main__.py:6: VisibleDeprecationWarning: converting an array with ndim > 0 to an index will result in an error in the future\n"
     ]
    },
    {
     "data": {
      "text/plain": [
       "LinearRegression(copy_X=True, fit_intercept=False, n_jobs=1, normalize=True)"
      ]
     },
     "execution_count": 183,
     "metadata": {},
     "output_type": "execute_result"
    }
   ],
   "source": [
    "from sklearn.cross_validation import train_test_split\n",
    "\n",
    "votes_col_idx = np.argwhere(columns == 'votes_total')[0]\n",
    "# Train the model using the training sets\n",
    "y = np.array([data.item(i,votes_col_idx) for i in range(data.shape[0])])\n",
    "\n",
    "cols = range(n_cols, n_cols+n_topics)\n",
    "X = data_plus[:,cols]\n",
    "X_train, X_test, y_train, y_test = train_test_split(X, y, test_size=0.2, random_state=42)\n",
    "\n",
    "regr = linear_model.LinearRegression(fit_intercept = False, normalize= True)\n",
    "regr.fit(X_train, y_train)"
   ]
  },
  {
   "cell_type": "code",
   "execution_count": 186,
   "metadata": {
    "collapsed": false
   },
   "outputs": [
    {
     "data": {
      "text/plain": [
       "-0.076552896143808447"
      ]
     },
     "execution_count": 186,
     "metadata": {},
     "output_type": "execute_result"
    }
   ],
   "source": [
    "# Model is worse than guessing using the average?\n",
    "regr.score(X_test, y_test)"
   ]
  },
  {
   "cell_type": "code",
   "execution_count": null,
   "metadata": {
    "collapsed": true
   },
   "outputs": [],
   "source": []
  }
 ],
 "metadata": {
  "kernelspec": {
   "display_name": "Python 2",
   "language": "python",
   "name": "python2"
  },
  "language_info": {
   "codemirror_mode": {
    "name": "ipython",
    "version": 2
   },
   "file_extension": ".py",
   "mimetype": "text/x-python",
   "name": "python",
   "nbconvert_exporter": "python",
   "pygments_lexer": "ipython2",
   "version": "2.7.11"
  }
 },
 "nbformat": 4,
 "nbformat_minor": 0
}

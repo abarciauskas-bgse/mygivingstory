{
 "cells": [
  {
   "cell_type": "code",
   "execution_count": 5,
   "metadata": {
    "collapsed": false
   },
   "outputs": [],
   "source": [
    "import time\n",
    "import lda\n",
    "execfile('load_data.py')\n",
    "execfile('nlp_code/corpus.py')\n",
    "execfile('nlp_code/document.py')"
   ]
  },
  {
   "cell_type": "code",
   "execution_count": 2,
   "metadata": {
    "collapsed": false
   },
   "outputs": [
    {
     "name": "stdout",
     "output_type": "stream",
     "text": [
      "(823, 30)\n"
     ]
    },
    {
     "data": {
      "text/plain": [
       "u\"Of all the deprivations of being homeless, the worst was believing I had nothing to give.\\\\n\\\\nA few years ago I found myself homeless. There was no good excuse for it. I had an excellent upbringing, I have a college degree, I had had a career in public relations, but then several things happened at once - I quit working, my mother died, I let my clinical depression go unchecked and untreated and simply lost all my savings, then my home, then my belongings. The only thing I had left was my pride, which isolated me from my friends and family and prevented me from getting the help I needed.\\\\n\\\\nOddly enough, it wasn't the possessions or the stability I missed most - it was the fact that I didn't feel like I was contributing. I wasn't using my talents, and I wasn't donating to things which had always been important to me. I wasn't even volunteering.\\\\n\\\\nI finally got help, entered a shelter run by Inter-Faith Ministries, started taking an anti-depressant, reached out to people and began the long journey back to a productive, happy life. \\\\n\\\\nThe staff at Inter-Faith Ministries might have saved my life. They provided support and friendship when I was still unwilling to involve my friends and family in my 'shame.' They then gave me a job - I started working in one of the homeless shelters as a house manager, something I still do one day a week in spite of the fact that I now work full time as Marketing Coordinator for the organization. While the marketing gig is exciting and certainly in line with my talents and education, I enjoy working with the residents in the shelter too much to stop. I also like to think that my story can help some of them get over the despair and shame of homelessness and regain their lives.\\\\n\\\\nOne of my proudest moments was when I was financially able to begin contributing financially again. My first step was to reinstate my monthly pledge with the local public radio station. That came before I even bought a bed because giving to and supporting others was more important to me in my road back to a 'normal' life than getting my mattress off the floor!\\\\n\\\\nI still don't advertise the fact that I have been homeless. I recently gave a talk to a group that included a couple people who had known me 25 years ago when I worked at the symphony. While it was great to catch up with them - and while it was great to hear them both say they really missed me and were so glad to know I was working with Inter-Faith - I didn't announce that it was because they had housed me for a year while I become whole again. There will always be some shame that I allowed this to happen to myself.\\\\n\\\\nInter-Faith Ministries, while it focuses on services for homeless and low-income people (three shelters, 104 low-income apartments, lunch program, holiday food/coat/toy distribution) also, as its name implies, brings together different faith groups. The organization has been around for 130 years and has always strived to celebrate both the diversity and the similarities of various religions. I like that in one day I can work and talk with Catholics, Hindus, evangelical Christians, Muslims and agnostics. \\\\n\\\\nWe do it on a shoestring budget. We have a wish list a mile long - improvements to our shelters, which all suffer from inadequate kitchens, plumbing and broken beds. We want to start a produce garden to use for meal preparation and to give our residents the opportunity to help and perhaps learn a marketable skill. We want to reinstate an inter-religious study series. \\\\n\\\\nThe main thing, however, is we want...need... to continue to shelter those most in need and save lives. Just like IFM saved mine.\""
      ]
     },
     "execution_count": 2,
     "metadata": {},
     "output_type": "execute_result"
    }
   ],
   "source": [
    "print data.shape\n",
    "documents[0]"
   ]
  },
  {
   "cell_type": "code",
   "execution_count": 3,
   "metadata": {
    "collapsed": false
   },
   "outputs": [
    {
     "name": "stdout",
     "output_type": "stream",
     "text": [
      "counting terms for doc: 0\n",
      "counting terms for doc: 25\n",
      "counting terms for doc: 50\n",
      "counting terms for doc: 75\n",
      "counting terms for doc: 100\n",
      "counting terms for doc: 125\n",
      "counting terms for doc: 150\n",
      "counting terms for doc: 175\n",
      "counting terms for doc: 200\n",
      "counting terms for doc: 225\n",
      "counting terms for doc: 250\n",
      "counting terms for doc: 275\n",
      "counting terms for doc: 300\n",
      "counting terms for doc: 325\n",
      "counting terms for doc: 350\n",
      "counting terms for doc: 375\n",
      "counting terms for doc: 400\n",
      "counting terms for doc: 425\n",
      "counting terms for doc: 450\n",
      "counting terms for doc: 475\n",
      "counting terms for doc: 500\n",
      "counting terms for doc: 525\n",
      "counting terms for doc: 550\n",
      "counting terms for doc: 575\n",
      "counting terms for doc: 600\n",
      "counting terms for doc: 625\n",
      "counting terms for doc: 650\n",
      "counting terms for doc: 675\n",
      "counting terms for doc: 700\n",
      "counting terms for doc: 725\n",
      "counting terms for doc: 750\n",
      "counting terms for doc: 775\n",
      "counting terms for doc: 800\n",
      "counting terms for doc: 0\n",
      "counting terms for doc: 25\n",
      "counting terms for doc: 50\n",
      "counting terms for doc: 75\n",
      "counting terms for doc: 100\n",
      "counting terms for doc: 125\n",
      "counting terms for doc: 150\n",
      "counting terms for doc: 175\n",
      "counting terms for doc: 200\n",
      "counting terms for doc: 225\n",
      "counting terms for doc: 250\n",
      "counting terms for doc: 275\n",
      "counting terms for doc: 300\n",
      "counting terms for doc: 325\n",
      "counting terms for doc: 350\n",
      "counting terms for doc: 375\n",
      "counting terms for doc: 400\n",
      "counting terms for doc: 425\n",
      "counting terms for doc: 450\n",
      "counting terms for doc: 475\n",
      "counting terms for doc: 500\n",
      "counting terms for doc: 525\n",
      "counting terms for doc: 550\n",
      "counting terms for doc: 575\n",
      "counting terms for doc: 600\n",
      "counting terms for doc: 625\n",
      "counting terms for doc: 650\n",
      "counting terms for doc: 675\n",
      "counting terms for doc: 700\n",
      "counting terms for doc: 725\n",
      "counting terms for doc: 750\n",
      "counting terms for doc: 775\n",
      "counting terms for doc: 800\n",
      "Sanity checks:\n",
      "\tTime to build corpus: 6.18563890457\n",
      "\tTerms in first document: [u'depriv' u'be' u'homeless' u'worst' u'wa' u'believ' u'noth' u'give'\n",
      " u'year' u'ago' u'found' u'homeless' u'wa' u'good' u'excus' u'excel'\n",
      " u'upbring' u'colleg' u'degre' u'career' u'public' u'relat' u'sever'\n",
      " u'thing' u'happen' u'onc' u'quit' u'work' u'mother' u'die' u'let'\n",
      " u'clinic' u'depress' u'uncheck' u'untreat' u'simpli' u'lost' u'save'\n",
      " u'home' u'belong' u'onli' u'thing' u'left' u'wa' u'pride' u'isol'\n",
      " u'friend' u'famili' u'prevent' u'get' u'help' u'need' u'noddli' u'enough'\n",
      " u'wasn' u'possess' u'stabil' u'miss' u'wa' u'fact' u'didn' u'feel' u'wa'\n",
      " u'contribut' u'wasn' u'use' u'talent' u'wasn' u'donat' u'thing' u'alway'\n",
      " u'import' u'wasn' u'volunt' u'final' u'got' u'help' u'enter' u'shelter'\n",
      " u'run' u'inter' u'faith' u'ministri' u'start' u'take' u'anti' u'depress'\n",
      " u'reach' u'peopl' u'began' u'journey' u'product' u'happi' u'life' u'nthe'\n",
      " u'staff' u'inter' u'faith' u'ministri' u'might' u'save' u'life' u'provid'\n",
      " u'support' u'friendship' u'wa' u'unwil' u'involv' u'friend' u'famili'\n",
      " u'shame' u'gave' u'job' u'start' u'work' u'homeless' u'shelter' u'hous'\n",
      " u'manag' u'someth' u'day' u'week' u'spite' u'fact' u'work' u'full' u'time'\n",
      " u'market' u'coordin' u'organ' u'market' u'gig' u'excit' u'certainli'\n",
      " u'line' u'talent' u'educ' u'enjoy' u'work' u'resid' u'shelter' u'much'\n",
      " u'stop' u'think' u'stori' u'can' u'help' u'despair' u'shame' u'homeless'\n",
      " u'regain' u'live' u'none' u'proudest' u'moment' u'wa' u'wa' u'financi'\n",
      " u'abl' u'begin' u'contribut' u'financi' u'step' u'wa' u'reinstat'\n",
      " u'monthli' u'pledg' u'local' u'public' u'radio' u'station' u'came'\n",
      " u'befor' u'bought' u'bed' u'becaus' u'give' u'support' u'other' u'wa'\n",
      " u'import' u'road' u'normal' u'life' u'get' u'mattress' u'floor' u'don'\n",
      " u'advertis' u'fact' u'homeless' u'recent' u'gave' u'talk' u'group'\n",
      " u'includ' u'coupl' u'peopl' u'known' u'year' u'ago' u'work' u'symphoni'\n",
      " u'wa' u'great' u'catch' u'wa' u'great' u'hear' u'realli' u'miss' u'glad'\n",
      " u'know' u'wa' u'work' u'inter' u'faith' u'didn' u'announc' u'wa' u'becaus'\n",
      " u'hous' u'year' u'becom' u'whole' u'will' u'alway' u'shame' u'allow'\n",
      " u'thi' u'happen' u'ninter' u'faith' u'ministri' u'focus' u'servic'\n",
      " u'homeless' u'low' u'incom' u'peopl' u'shelter' u'low' u'incom' u'apart'\n",
      " u'lunch' u'program' u'holiday' u'food' u'coat' u'toy' u'distribut' u'it'\n",
      " u'name' u'impli' u'bring' u'togeth' u'differ' u'faith' u'group' u'organ'\n",
      " u'ha' u'around' u'year' u'ha' u'alway' u'strive' u'celebr' u'divers'\n",
      " u'similar' u'variou' u'religion' u'day' u'can' u'work' u'talk' u'cathol'\n",
      " u'hindu' u'evangel' u'christian' u'muslim' u'agnost' u'nwe' u'shoestr'\n",
      " u'budget' u'wish' u'list' u'mile' u'improv' u'shelter' u'suffer'\n",
      " u'inadequ' u'kitchen' u'plumb' u'broken' u'bed' u'want' u'start' u'produc'\n",
      " u'garden' u'use' u'meal' u'prepar' u'give' u'resid' u'opportun' u'help'\n",
      " u'perhap' u'learn' u'market' u'skill' u'want' u'reinstat' u'inter'\n",
      " u'religi' u'studi' u'seri' u'nthe' u'main' u'thing' u'howev' u'want'\n",
      " u'need' u'continu' u'shelter' u'need' u'save' u'live' u'ifm' u'save'\n",
      " u'mine']\n",
      "\tTotal words in corpus: 151571\n",
      "\tNumber docs in corpus: 823\n",
      "\tNumber of unique words in corpus: 10827\n"
     ]
    }
   ],
   "source": [
    "t0 = time.time()\n",
    "corpus = Corpus(documents, 'nlp_code/stopwords.txt', 2)\n",
    "t1 = time.time()\n",
    "\n",
    "corpus.generate_document_term_matrix()\n",
    "corpus.generate_idfv()\n",
    "corpus.generate_tf_idf()\n",
    "termlist = list(corpus.token_set)\n",
    "print 'Sanity checks:'\n",
    "print '\\tTime to build corpus: ' + str(t1 - t0)\n",
    "print '\\tTerms in first document: ' + str(corpus.docs[0].tokens)\n",
    "print '\\tTotal words in corpus: ' + str(corpus.ntotal_tokens)\n",
    "print '\\tNumber docs in corpus: ' + str(corpus.N)\n",
    "print '\\tNumber of unique words in corpus: ' + str(len(corpus.token_set))"
   ]
  },
  {
   "cell_type": "code",
   "execution_count": 7,
   "metadata": {
    "collapsed": false
   },
   "outputs": [],
   "source": [
    "tf_idf_matrix = np.array(corpus.tf_idf, dtype = 'int')\n",
    "\n",
    "model = lda.LDA(n_topics=10, n_iter=1000, random_state=1)\n",
    "time0 = time.time()\n",
    "model.fit(tf_idf_matrix)\n",
    "time1 = time.time()\n",
    "\n",
    "print 'Time spent running LDA: {0}'.format(time1-time0)"
   ]
  },
  {
   "cell_type": "code",
   "execution_count": 13,
   "metadata": {
    "collapsed": false
   },
   "outputs": [
    {
     "name": "stdout",
     "output_type": "stream",
     "text": [
      "10828\n",
      "Topic 0: nicu pacer autism babi neonat born womb kulturec\n",
      "Topic 1: cancer diseas diagnos treatment brain research cure diagnosi\n",
      "Topic 2: student school youth skill teacher dream class program\n",
      "Topic 3: dog adopt rescu cat anim pet foster shelter\n",
      "Topic 4: disabl abus lighthous inc stabl heâ sexual traffick\n",
      "Topic 5: camp camper adapt ski vermont hors cmt write\n",
      "Topic 6: wildlif anim virginia forest flight refug bird fli\n",
      "Topic 7: hi play women everyth room team don return\n",
      "Topic 8: danc music perform art film artist theater dancer\n",
      "Topic 9: villag haiti nepal contribut earthquak women india partner\n"
     ]
    }
   ],
   "source": [
    "topic_word = model.topic_word_  # model.components_ also works\n",
    "n_top_words = 8\n",
    "vocab = np.array(list(corpus.token_set))\n",
    "print len(topic_word[0])\n",
    "for i, topic_dist in enumerate(topic_word):\n",
    "    top_word_idcs = list(np.argsort(topic_dist))\n",
    "    top_word_idcs.reverse()\n",
    "    topic_words = vocab[top_word_idcs[0:n_top_words]]\n",
    "    topic_words = [word.encode('UTF-8') for word in topic_words]\n",
    "    print('Topic {}: {}'.format(i, ' '.join(topic_words)))"
   ]
  },
  {
   "cell_type": "code",
   "execution_count": 65,
   "metadata": {
    "collapsed": false
   },
   "outputs": [
    {
     "name": "stderr",
     "output_type": "stream",
     "text": [
      "WARNING:lda:all zero column in document-term matrix found\n",
      "WARNING:lda:all zero column in document-term matrix found\n",
      "WARNING:lda:all zero column in document-term matrix found\n",
      "WARNING:lda:all zero column in document-term matrix found\n",
      "WARNING:lda:all zero column in document-term matrix found\n",
      "WARNING:lda:all zero column in document-term matrix found\n",
      "WARNING:lda:all zero column in document-term matrix found\n",
      "WARNING:lda:all zero column in document-term matrix found\n",
      "WARNING:lda:all zero column in document-term matrix found\n"
     ]
    }
   ],
   "source": [
    "likelihoods = []\n",
    "iters = 500\n",
    "n_topics_range = range(5,50,5)\n",
    "\n",
    "for nt in n_topics_range:\n",
    "    model = lda.LDA(n_topics=nt, n_iter=iters, random_state=1)\n",
    "    model.fit(tf_idf_matrix)\n",
    "    likelihoods.append(model.loglikelihood())"
   ]
  },
  {
   "cell_type": "code",
   "execution_count": 66,
   "metadata": {
    "collapsed": false
   },
   "outputs": [
    {
     "data": {
      "image/png": "[encoded data removed]",
      "text/plain": [
       "<matplotlib.figure.Figure at 0x11f1aa1d0>"
      ]
     },
     "metadata": {},
     "output_type": "display_data"
    }
   ],
   "source": [
    "import matplotlib.mlab as mlab\n",
    "import matplotlib.pyplot as plt\n",
    "\n",
    "%matplotlib inline\n",
    "line, = plt.plot(n_topics_range, likelihoods, linewidth=2)\n",
    "\n",
    "plt.show()"
   ]
  },
  {
   "cell_type": "code",
   "execution_count": 20,
   "metadata": {
    "collapsed": false
   },
   "outputs": [
    {
     "name": "stderr",
     "output_type": "stream",
     "text": [
      "WARNING:lda:all zero column in document-term matrix found\n",
      "WARNING:lda:all zero column in document-term matrix found\n",
      "WARNING:lda:all zero column in document-term matrix found\n",
      "WARNING:lda:all zero column in document-term matrix found\n",
      "WARNING:lda:all zero column in document-term matrix found\n",
      "WARNING:lda:all zero column in document-term matrix found\n"
     ]
    }
   ],
   "source": [
    "likelihoods = []\n",
    "n_iters_range = [i*10**exp for exp in range(2, 4) for i in range(1, 4)]\n",
    "# [100, 200, 300, 1000, 2000, 3000]\n",
    "n_topics = 20\n",
    "\n",
    "for ni in n_iters_range:\n",
    "    model = lda.LDA(n_topics=n_topics, n_iter=ni, random_state=1)\n",
    "    model.fit(tf_idf_matrix)\n",
    "    likelihoods.append(model.loglikelihood())"
   ]
  },
  {
   "cell_type": "code",
   "execution_count": 21,
   "metadata": {
    "collapsed": false
   },
   "outputs": [
    {
     "data": {
      "image/png": "[encoded data removed]",
      "text/plain": [
       "<matplotlib.figure.Figure at 0x11cd914d0>"
      ]
     },
     "metadata": {},
     "output_type": "display_data"
    }
   ],
   "source": [
    "import matplotlib.mlab as mlab\n",
    "import matplotlib.pyplot as plt\n",
    "\n",
    "%matplotlib inline\n",
    "line, = plt.plot(n_iters_range, likelihoods, linewidth=2)\n",
    "\n",
    "plt.show()"
   ]
  },
  {
   "cell_type": "code",
   "execution_count": 10,
   "metadata": {
    "collapsed": false
   },
   "outputs": [
    {
     "name": "stderr",
     "output_type": "stream",
     "text": [
      "WARNING:lda:all zero column in document-term matrix found\n"
     ]
    },
    {
     "data": {
      "text/plain": [
       "<lda.lda.LDA instance at 0x10a909830>"
      ]
     },
     "execution_count": 10,
     "metadata": {},
     "output_type": "execute_result"
    }
   ],
   "source": [
    "n_topics, n_iters = [20,1000]\n",
    "model = lda.LDA(n_topics=n_topics, n_iter=n_iters, random_state=1)\n",
    "model.fit(tf_idf_matrix)"
   ]
  },
  {
   "cell_type": "code",
   "execution_count": 11,
   "metadata": {
    "collapsed": false
   },
   "outputs": [
    {
     "name": "stdout",
     "output_type": "stream",
     "text": [
      "10827\n",
      "Topic 0: net justic malaria must alumni institut human student\n",
      "Topic 1: respons baltimor certif book cancer sacr paul write\n",
      "Topic 2: haiti villag creek turpentin tiger india orphan trip\n",
      "Topic 3: dog anim cat rescu adopt foster pet shelter\n",
      "Topic 4: pacer run marathon race pasadena runner ski vermont\n",
      "Topic 5: mental ill depress health aspect addict emot equal\n",
      "Topic 6: danc art perform film artist chicago dancer theater\n",
      "Topic 7: youth school global student teacher empow achiev scholarship\n",
      "Topic 8: wildlif virginia music eagl center wcv cam perform\n",
      "Topic 9: nepal earthquak intern solar disast villag garden hot\n",
      "Topic 10: hors disabl flight ride rider fli buffalo catcher\n",
      "Topic 11: autism kulturec forest toy ipad santa georgia spectrum\n",
      "Topic 12: aneurysm veteran brain ruptur ohio militari retreat karma\n",
      "Topic 13: bird overlook jar habitat emot balloon cage tune\n",
      "Topic 14: cancer diseas research diagnos cure treatment diagnosi battl\n",
      "Topic 15: hi everyth room didn doctor night let mind\n",
      "Topic 16: girl women refuge haven pregnanc violenc traffick pathway\n",
      "Topic 17: camp camper hondura christma toy salvat texa holiday\n",
      "Topic 18: lego ethiopia biani tbi promis casa selamta senat\n",
      "Topic 19: pay homeless bless chariti fundrais women done spent\n"
     ]
    }
   ],
   "source": [
    "topic_word = model.topic_word_  # model.components_ also works\n",
    "n_top_words = 8\n",
    "vocab = np.array(list(corpus.token_set))\n",
    "print len(topic_word[0])\n",
    "for i, topic_dist in enumerate(topic_word):\n",
    "    top_word_idcs = list(np.argsort(topic_dist))\n",
    "    top_word_idcs.reverse()\n",
    "    topic_words = vocab[top_word_idcs[0:n_top_words]]\n",
    "    topic_words = [word.encode('UTF-8') for word in topic_words]\n",
    "    print('Topic {}: {}'.format(i, ' '.join(topic_words)))"
   ]
  },
  {
   "cell_type": "code",
   "execution_count": 30,
   "metadata": {
    "collapsed": false
   },
   "outputs": [
    {
     "name": "stdout",
     "output_type": "stream",
     "text": [
      "Giving the gift of a smile.\\nDoesn't get any better than that. We live basically paycheck to almost paycheck and things have always been tight. But a little over 2 years ago my 2 year old was officially diagnosed autistic. And honestly I'd barely heard of it. I cried for days, I sank into a pitty of tears and why me, why my daughter. I felt scared as if I had failed her. Then I googled, I searched, I looked high and low. I found many sites the first one not so helpful, I won't name any names but I'll say they offered me a packet to do a fundraiser and walk for them. However they were unable to help me with any other help as my daughter wasn't in their criteria as considered she was a girl and not a boy and I guess they is more of a boy issue ( funny I've got three girls on various end of the spectrum and not a boy one ) . Then I found Kulturecity and was instantly welcomed, I got various opinions from their 'groupies' on their page . My girls were sent a toy and man the smile on their face that someone they've never met cared enough to send them a gift in the mail was more than enough to warm my heart. I've donated and helped out as much as possible because everything they have it paid forward. However my most memorable donation was a couple of gifts I sent to Santa for autism Christmas. I bet you didn't know we have a special Christmas for our special kids. Many of us received mail to be opened on April ( autism awareness month ) 25th . And many of us cooked and celebrate ( toned down a bit ) same as we do for December 25th. I now try to set aside a little a paycheck for when special events or fundraiser are being done. Because I can not think of a better way to pay it forward. They are the all about the smiles of our kids, my kids, your kids.\n",
      "15\n",
      "[0.000925925925925926 0.000925925925925926 0.000925925925925926\n",
      " 0.000925925925925926 0.000925925925925926 0.000925925925925926\n",
      " 0.000925925925925926 0.000925925925925926 0.000925925925925926\n",
      " 0.000925925925925926 0.000925925925925926 0.33425925925925926\n",
      " 0.000925925925925926 0.000925925925925926 0.000925925925925926\n",
      " 0.38981481481481484 0.010185185185185186 0.000925925925925926\n",
      " 0.000925925925925926 0.25092592592592594]\n"
     ]
    },
    {
     "name": "stderr",
     "output_type": "stream",
     "text": [
      "/Users/aimeebarciauskas/anaconda/lib/python2.7/site-packages/IPython/kernel/__main__.py:6: VisibleDeprecationWarning: converting an array with ndim > 0 to an index will result in an error in the future\n"
     ]
    }
   ],
   "source": [
    "doc_topic = model.doc_topic_\n",
    "n_cols = data.shape[1]\n",
    "doc_topic_cols = range(n_cols, n_cols+n_topics)\n",
    "data_plus = np.concatenate((data, doc_topic), axis=1)\n",
    "story_idx = 10\n",
    "obs_story = data_plus.item((story_idx,story_text_column_idx))\n",
    "print obs_story\n",
    "print np.argmax(data_plus[story_idx,:][doc_topic_cols])\n",
    "print data_plus[story_idx,:][doc_topic_cols]"
   ]
  },
  {
   "cell_type": "code",
   "execution_count": 64,
   "metadata": {
    "collapsed": false
   },
   "outputs": [
    {
     "name": "stdout",
     "output_type": "stream",
     "text": [
      "[0, 30, 31, 32, 33, 34, 35, 36, 37, 38, 39, 40, 41, 42, 43, 44, 45, 46, 47, 48, 49]\n"
     ]
    }
   ],
   "source": [
    "# key column, story_text_column, doc_topic columns\n",
    "doc_topic_cols = range(n_cols, n_cols+n_topics)\n",
    "doc_topic_cols.insert(0,0)\n",
    "print doc_topic_cols\n",
    "data_trunc =  data_plus[:,doc_topic_cols]\n",
    "data_trunc[:,0] = map(int, data_trunc[:,0])\n",
    "\n",
    "fmts = ['%3i']\n",
    "fmts.extend(['%10.5f']*n_topics)\n",
    "np.savetxt('data_plus.csv', data_trunc, delimiter=',', fmt=fmts)"
   ]
  }
 ],
 "metadata": {
  "kernelspec": {
   "display_name": "Python 2",
   "language": "python",
   "name": "python2"
  },
  "language_info": {
   "codemirror_mode": {
    "name": "ipython",
    "version": 2
   },
   "file_extension": ".py",
   "mimetype": "text/x-python",
   "name": "python",
   "nbconvert_exporter": "python",
   "pygments_lexer": "ipython2",
   "version": "2.7.11"
  }
 },
 "nbformat": 4,
 "nbformat_minor": 0
}

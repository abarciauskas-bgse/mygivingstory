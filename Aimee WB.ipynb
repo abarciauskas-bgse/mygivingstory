{
 "cells": [
  {
   "cell_type": "code",
   "execution_count": 19,
   "metadata": {
    "collapsed": false
   },
   "outputs": [
    {
     "name": "stdout",
     "output_type": "stream",
     "text": [
      "['readMe', 'CLEAN DATA', 'GUIDESTAR MATCHING DATA', 'fb_data']\n"
     ]
    }
   ],
   "source": [
    "from openpyxl import load_workbook\n",
    "import numpy as np\n",
    "\n",
    "wb = load_workbook('data/MyGivingStory_Data_for_DataKind_Merged.xlsx')\n",
    "print wb.get_sheet_names()\n",
    "\n",
    "ws = wb.get_sheet_by_name('CLEAN DATA')"
   ]
  },
  {
   "cell_type": "code",
   "execution_count": 27,
   "metadata": {
    "collapsed": false
   },
   "outputs": [
    {
     "data": {
      "text/plain": [
       "(1000, 33)"
      ]
     },
     "execution_count": 27,
     "metadata": {},
     "output_type": "execute_result"
    }
   ],
   "source": [
    "A = np.array([[i.value for i in j] for j in ws.rows])\n",
    "A.shape"
   ]
  },
  {
   "cell_type": "code",
   "execution_count": 28,
   "metadata": {
    "collapsed": false
   },
   "outputs": [
    {
     "data": {
      "text/plain": [
       "array([u'NonProfitOrg_Guidestar_Ver', u'Inclusion', u'votes_total',\n",
       "       u'votes_gallery_(Calc)', u'votes_local_network', u'createdate',\n",
       "       u'ipaddress', u'EIN', u'facebook_name', u'gender', u'location',\n",
       "       u'language', u'position', u'affiliation', u'email_Submmitted',\n",
       "       u'Photo', u'URL_in_Story_(Calc)', u'matched_zip', u'matched_city',\n",
       "       u'matched_state', u'Total Revenue', u'Total Expenses', u'NTEE_Code',\n",
       "       u'Story_Text', u'give_reason', u'give_method', None, None, None,\n",
       "       None, None, None, None], dtype=object)"
      ]
     },
     "execution_count": 28,
     "metadata": {},
     "output_type": "execute_result"
    }
   ],
   "source": [
    "A[0,:]"
   ]
  }
 ],
 "metadata": {
  "kernelspec": {
   "display_name": "Python 2",
   "language": "python",
   "name": "python2"
  },
  "language_info": {
   "codemirror_mode": {
    "name": "ipython",
    "version": 2
   },
   "file_extension": ".py",
   "mimetype": "text/x-python",
   "name": "python",
   "nbconvert_exporter": "python",
   "pygments_lexer": "ipython2",
   "version": "2.7.11"
  }
 },
 "nbformat": 4,
 "nbformat_minor": 0
}

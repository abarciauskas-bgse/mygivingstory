{
 "cells": [
  {
   "cell_type": "code",
   "execution_count": null,
   "metadata": {
    "collapsed": true
   },
   "outputs": [],
   "source": [
    "import numpy as np\n",
    "import graphlab as gl\n",
    "from graphlab.toolkits.feature_engineering import *\n",
    "encoder = WordCounter(delimiters=[\"\\r\", \"\\v\", \"\\n\", \"\\f\", \"\\t\", \" \",'\"',\"'\",',','.','!',';',':','$','%','-','_','/','\\\\'\n",
    "                                  ,'(',')','?','[',']','{','}'\n",
    "                                 ,'0','1','2','3','4','5','6','7','8','9'])\n",
    "import gensim\n",
    "w2v = gensim.models.Word2Vec.load_word2vec_format('GoogleNews-vectors-negative300.bin/GoogleNews-vectors-negative300.bin', binary=True)\n",
    "def getvec(y):\n",
    "    try: \n",
    "        return w2v[y]\n",
    "    except:\n",
    "        return []\n",
    "def getvec2(x):\n",
    "    try:\n",
    "        return np.mean([z for z in [getvec(y) for y in x.keys()] if z != []], axis=0)\n",
    "    except: \n",
    "        return None\n",
    "\n",
    "\n",
    "def producebow(sfx,tstr):\n",
    "    transformed_sf = encoder.fit_transform(sfx[[tstr]])\n",
    "    transformed_sf[tstr] = transformed_sf[tstr].dict_trim_by_keys(gl.text_analytics.stopwords(), True)\n",
    "    return transformed_sf[tstr]\n",
    "def producevec(sfx,tstr):\n",
    "    transformed_df = sfx.copy()\n",
    "    transformed_sf[tstr] = [getvec2(x) for x in transformed_df[tstr]]\n",
    "    return transformed_sf[tstr]"
   ]
  },
  {
   "cell_type": "code",
   "execution_count": 2,
   "metadata": {
    "collapsed": true
   },
   "outputs": [],
   "source": [
    "def producebow(sfx,tstr):\n",
    "    transformed_sf = encoder.fit_transform(sfx[[tstr]])\n",
    "    transformed_sf[tstr] = transformed_sf[tstr].dict_trim_by_keys(gl.text_analytics.stopwords(), True)\n",
    "    return transformed_sf[tstr]\n",
    "def producevec(sfx,tstr):\n",
    "    return [getvec2(x) for x in sfx[tstr]]"
   ]
  },
  {
   "cell_type": "code",
   "execution_count": 3,
   "metadata": {
    "collapsed": false
   },
   "outputs": [],
   "source": [
    "inp = gl.SFrame()\n",
    "inp['text']=[ open('moi.txt', 'r').read().decode('ascii','ignore')]"
   ]
  },
  {
   "cell_type": "code",
   "execution_count": 4,
   "metadata": {
    "collapsed": false
   },
   "outputs": [
    {
     "data": {
      "text/plain": [
       "'Enabling mobility in neglected areas of the world\\nMobility Outreach International (formerly Prosthetics Outreach Foundation)enables mobility in neglected areas of the world and has served over 21,000 adults and children immobilized by limb loss and deformity. Mobility Outreach Internationals programs deploy expertise in prosthetics, orthotics and clubfoot treatment to offer advocacy, training, rehabilitation services and occasional orthopedic surgery.'"
      ]
     },
     "execution_count": 4,
     "metadata": {},
     "output_type": "execute_result"
    }
   ],
   "source": [
    "inp['text'][0]"
   ]
  },
  {
   "cell_type": "code",
   "execution_count": 5,
   "metadata": {
    "collapsed": false
   },
   "outputs": [],
   "source": [
    "inp['bow']=producebow(inp,'text')\n",
    "inp['vector'] = producevec(inp,'bow')"
   ]
  },
  {
   "cell_type": "code",
   "execution_count": 6,
   "metadata": {
    "collapsed": false
   },
   "outputs": [],
   "source": [
    "data = gl.SFrame('mystory')"
   ]
  },
  {
   "cell_type": "code",
   "execution_count": 7,
   "metadata": {
    "collapsed": false
   },
   "outputs": [],
   "source": [
    "data['Story_Text'] = data['Story_Text'].apply(lambda x: x.decode('ascii','ignore'))\n",
    "data['1gram']=producebow(data[['Story_Text']],'Story_Text')\n",
    "data['vector'] = producevec(data[['1gram']],'1gram')"
   ]
  },
  {
   "cell_type": "code",
   "execution_count": 8,
   "metadata": {
    "collapsed": true
   },
   "outputs": [],
   "source": [
    "data['perc'] = data['Total Expenses']/data['Total Revenue']"
   ]
  },
  {
   "cell_type": "code",
   "execution_count": 9,
   "metadata": {
    "collapsed": true
   },
   "outputs": [],
   "source": [
    "tokenizer = Tokenizer()"
   ]
  },
  {
   "cell_type": "code",
   "execution_count": 10,
   "metadata": {
    "collapsed": false
   },
   "outputs": [],
   "source": [
    "tokenized_sf = tokenizer.fit_transform(data[['Story_Text']])"
   ]
  },
  {
   "cell_type": "code",
   "execution_count": 11,
   "metadata": {
    "collapsed": false
   },
   "outputs": [],
   "source": [
    "tokenized_sf['len'] = tokenized_sf['Story_Text'].apply(lambda x: len(x))"
   ]
  },
  {
   "cell_type": "code",
   "execution_count": 12,
   "metadata": {
    "collapsed": true
   },
   "outputs": [],
   "source": [
    "data['words'] = tokenized_sf['len']"
   ]
  },
  {
   "cell_type": "code",
   "execution_count": 13,
   "metadata": {
    "collapsed": true
   },
   "outputs": [],
   "source": [
    "data['target'] = data['votes_total']>40"
   ]
  },
  {
   "cell_type": "code",
   "execution_count": 14,
   "metadata": {
    "collapsed": true
   },
   "outputs": [],
   "source": [
    "sf_train, sf_test = data.random_split(.9, seed=5)"
   ]
  },
  {
   "cell_type": "code",
   "execution_count": 16,
   "metadata": {
    "collapsed": false
   },
   "outputs": [
    {
     "data": {
      "text/plain": [
       "['NonProfitOrg_Guidestar_Ver',\n",
       " 'Inclusion',\n",
       " 'votes_total',\n",
       " 'votes_gallery_(Calc)',\n",
       " 'votes_local_network',\n",
       " 'createdate',\n",
       " 'ipaddress',\n",
       " 'EIN',\n",
       " 'facebook_name',\n",
       " 'gender',\n",
       " 'location',\n",
       " 'language',\n",
       " 'position',\n",
       " 'affiliation',\n",
       " 'email_Submmitted',\n",
       " 'Photo',\n",
       " 'URL_in_Story_(Calc)',\n",
       " 'matched_zip',\n",
       " 'matched_city',\n",
       " 'matched_state',\n",
       " 'Total Revenue',\n",
       " 'Total Expenses',\n",
       " 'NTEE_Code',\n",
       " 'Story_Text',\n",
       " 'give_reason',\n",
       " 'give_method',\n",
       " 'X27',\n",
       " '.1',\n",
       " '.2',\n",
       " '.3',\n",
       " '.4',\n",
       " '.5',\n",
       " '.6',\n",
       " 'text length',\n",
       " 'remaining',\n",
       " '1gram',\n",
       " 'vector',\n",
       " 'perc',\n",
       " 'words',\n",
       " 'target']"
      ]
     },
     "execution_count": 16,
     "metadata": {},
     "output_type": "execute_result"
    }
   ],
   "source": [
    "data.column_names()"
   ]
  },
  {
   "cell_type": "code",
   "execution_count": 20,
   "metadata": {
    "collapsed": false
   },
   "outputs": [
    {
     "data": {
      "text/html": [
       "<pre>WARNING: The number of feature dimensions in this problem is very large in comparison with the number of examples. Unless an appropriate regularization value is set, this model may not provide accurate predictions for a validation/test set.</pre>"
      ],
      "text/plain": [
       "WARNING: The number of feature dimensions in this problem is very large in comparison with the number of examples. Unless an appropriate regularization value is set, this model may not provide accurate predictions for a validation/test set."
      ]
     },
     "metadata": {},
     "output_type": "display_data"
    },
    {
     "data": {
      "text/html": [
       "<pre>Boosted trees classifier:</pre>"
      ],
      "text/plain": [
       "Boosted trees classifier:"
      ]
     },
     "metadata": {},
     "output_type": "display_data"
    },
    {
     "data": {
      "text/html": [
       "<pre>--------------------------------------------------------</pre>"
      ],
      "text/plain": [
       "--------------------------------------------------------"
      ]
     },
     "metadata": {},
     "output_type": "display_data"
    },
    {
     "data": {
      "text/html": [
       "<pre>Number of examples          : 736</pre>"
      ],
      "text/plain": [
       "Number of examples          : 736"
      ]
     },
     "metadata": {},
     "output_type": "display_data"
    },
    {
     "data": {
      "text/html": [
       "<pre>Number of classes           : 2</pre>"
      ],
      "text/plain": [
       "Number of classes           : 2"
      ]
     },
     "metadata": {},
     "output_type": "display_data"
    },
    {
     "data": {
      "text/html": [
       "<pre>Number of feature columns   : 13</pre>"
      ],
      "text/plain": [
       "Number of feature columns   : 13"
      ]
     },
     "metadata": {},
     "output_type": "display_data"
    },
    {
     "data": {
      "text/html": [
       "<pre>Number of unpacked features : 14374</pre>"
      ],
      "text/plain": [
       "Number of unpacked features : 14374"
      ]
     },
     "metadata": {},
     "output_type": "display_data"
    },
    {
     "data": {
      "text/html": [
       "<pre>+-----------+--------------+-------------------+---------------------+-------------------+---------------------+</pre>"
      ],
      "text/plain": [
       "+-----------+--------------+-------------------+---------------------+-------------------+---------------------+"
      ]
     },
     "metadata": {},
     "output_type": "display_data"
    },
    {
     "data": {
      "text/html": [
       "<pre>| Iteration | Elapsed Time | Training-accuracy | Validation-accuracy | Training-log_loss | Validation-log_loss |</pre>"
      ],
      "text/plain": [
       "| Iteration | Elapsed Time | Training-accuracy | Validation-accuracy | Training-log_loss | Validation-log_loss |"
      ]
     },
     "metadata": {},
     "output_type": "display_data"
    },
    {
     "data": {
      "text/html": [
       "<pre>+-----------+--------------+-------------------+---------------------+-------------------+---------------------+</pre>"
      ],
      "text/plain": [
       "+-----------+--------------+-------------------+---------------------+-------------------+---------------------+"
      ]
     },
     "metadata": {},
     "output_type": "display_data"
    },
    {
     "data": {
      "text/html": [
       "<pre>| 1         | 0.041999     | 0.892663          | 0.689655            | 0.542175          | 0.619040            |</pre>"
      ],
      "text/plain": [
       "| 1         | 0.041999     | 0.892663          | 0.689655            | 0.542175          | 0.619040            |"
      ]
     },
     "metadata": {},
     "output_type": "display_data"
    },
    {
     "data": {
      "text/html": [
       "<pre>| 2         | 0.080000     | 0.917120          | 0.689655            | 0.424373          | 0.595654            |</pre>"
      ],
      "text/plain": [
       "| 2         | 0.080000     | 0.917120          | 0.689655            | 0.424373          | 0.595654            |"
      ]
     },
     "metadata": {},
     "output_type": "display_data"
    },
    {
     "data": {
      "text/html": [
       "<pre>| 3         | 0.119998     | 0.951087          | 0.689655            | 0.351349          | 0.568810            |</pre>"
      ],
      "text/plain": [
       "| 3         | 0.119998     | 0.951087          | 0.689655            | 0.351349          | 0.568810            |"
      ]
     },
     "metadata": {},
     "output_type": "display_data"
    },
    {
     "data": {
      "text/html": [
       "<pre>| 4         | 0.156998     | 0.959239          | 0.712644            | 0.300050          | 0.561278            |</pre>"
      ],
      "text/plain": [
       "| 4         | 0.156998     | 0.959239          | 0.712644            | 0.300050          | 0.561278            |"
      ]
     },
     "metadata": {},
     "output_type": "display_data"
    },
    {
     "data": {
      "text/html": [
       "<pre>| 5         | 0.195998     | 0.970109          | 0.712644            | 0.258956          | 0.550639            |</pre>"
      ],
      "text/plain": [
       "| 5         | 0.195998     | 0.970109          | 0.712644            | 0.258956          | 0.550639            |"
      ]
     },
     "metadata": {},
     "output_type": "display_data"
    },
    {
     "data": {
      "text/html": [
       "<pre>| 6         | 0.232999     | 0.978261          | 0.724138            | 0.228286          | 0.549185            |</pre>"
      ],
      "text/plain": [
       "| 6         | 0.232999     | 0.978261          | 0.724138            | 0.228286          | 0.549185            |"
      ]
     },
     "metadata": {},
     "output_type": "display_data"
    },
    {
     "data": {
      "text/html": [
       "<pre>+-----------+--------------+-------------------+---------------------+-------------------+---------------------+</pre>"
      ],
      "text/plain": [
       "+-----------+--------------+-------------------+---------------------+-------------------+---------------------+"
      ]
     },
     "metadata": {},
     "output_type": "display_data"
    }
   ],
   "source": [
    " model = gl.boosted_trees_classifier.create(sf_train, target='target',\n",
    "                                 features=\n",
    "                                     ['Photo'\n",
    "                                      ,'text length'\n",
    "                                      ,'NTEE_Code'\n",
    "                                     ,'perc'\n",
    "                                    ,'remaining'\n",
    "                                    ,'Total Revenue'\n",
    "                                      ,'Total Expenses'\n",
    "                                      ,'Inclusion'\n",
    "                                      ,'words'\n",
    "                                      ,'1gram'\n",
    "                                      ,'give_reason'\n",
    "                                      ,'give_method'\n",
    "                                      ,'vector'\n",
    "                                      #,'matched_state'\n",
    "                                      #,'SentimentScore',\n",
    "                                      #,'NumWords',\n",
    "                                      \n",
    " #'NumPunctuation',\n",
    " #'NumURLs',\n",
    " #'NumHashtags',\n",
    " #'NumAtMentions',\n",
    " #'NumDollarsigns',\n",
    " #'NumExclamationpoints',\n",
    " #'NumDigits',\n",
    " #'NumUppercaseletters',\n",
    " #'EmailDomain',\n",
    " #'EmailTLD',\n",
    " #'ScrabbleScore',\n",
    " #'InferredGender'\n",
    "                                    ]\n",
    "                                    , validation_set=sf_test\n",
    "                                    ,max_iterations=10\n",
    "                                    ,max_depth=6)"
   ]
  },
  {
   "cell_type": "code",
   "execution_count": 21,
   "metadata": {
    "collapsed": false
   },
   "outputs": [
    {
     "data": {
      "text/html": [
       "<div style=\"max-height:1000px;max-width:1500px;overflow:auto;\"><table frame=\"box\" rules=\"cols\">\n",
       "    <tr>\n",
       "        <th style=\"padding-left: 1em; padding-right: 1em; text-align: center\">name</th>\n",
       "        <th style=\"padding-left: 1em; padding-right: 1em; text-align: center\">index</th>\n",
       "        <th style=\"padding-left: 1em; padding-right: 1em; text-align: center\">count</th>\n",
       "    </tr>\n",
       "    <tr>\n",
       "        <td style=\"padding-left: 1em; padding-right: 1em; text-align: center; vertical-align: top\">text length</td>\n",
       "        <td style=\"padding-left: 1em; padding-right: 1em; text-align: center; vertical-align: top\">None</td>\n",
       "        <td style=\"padding-left: 1em; padding-right: 1em; text-align: center; vertical-align: top\">17</td>\n",
       "    </tr>\n",
       "    <tr>\n",
       "        <td style=\"padding-left: 1em; padding-right: 1em; text-align: center; vertical-align: top\">Photo</td>\n",
       "        <td style=\"padding-left: 1em; padding-right: 1em; text-align: center; vertical-align: top\">TRUE</td>\n",
       "        <td style=\"padding-left: 1em; padding-right: 1em; text-align: center; vertical-align: top\">10</td>\n",
       "    </tr>\n",
       "    <tr>\n",
       "        <td style=\"padding-left: 1em; padding-right: 1em; text-align: center; vertical-align: top\">1gram</td>\n",
       "        <td style=\"padding-left: 1em; padding-right: 1em; text-align: center; vertical-align: top\">family</td>\n",
       "        <td style=\"padding-left: 1em; padding-right: 1em; text-align: center; vertical-align: top\">4</td>\n",
       "    </tr>\n",
       "    <tr>\n",
       "        <td style=\"padding-left: 1em; padding-right: 1em; text-align: center; vertical-align: top\">vector</td>\n",
       "        <td style=\"padding-left: 1em; padding-right: 1em; text-align: center; vertical-align: top\">164</td>\n",
       "        <td style=\"padding-left: 1em; padding-right: 1em; text-align: center; vertical-align: top\">4</td>\n",
       "    </tr>\n",
       "    <tr>\n",
       "        <td style=\"padding-left: 1em; padding-right: 1em; text-align: center; vertical-align: top\">words</td>\n",
       "        <td style=\"padding-left: 1em; padding-right: 1em; text-align: center; vertical-align: top\">None</td>\n",
       "        <td style=\"padding-left: 1em; padding-right: 1em; text-align: center; vertical-align: top\">4</td>\n",
       "    </tr>\n",
       "    <tr>\n",
       "        <td style=\"padding-left: 1em; padding-right: 1em; text-align: center; vertical-align: top\">1gram</td>\n",
       "        <td style=\"padding-left: 1em; padding-right: 1em; text-align: center; vertical-align: top\">calls</td>\n",
       "        <td style=\"padding-left: 1em; padding-right: 1em; text-align: center; vertical-align: top\">3</td>\n",
       "    </tr>\n",
       "    <tr>\n",
       "        <td style=\"padding-left: 1em; padding-right: 1em; text-align: center; vertical-align: top\">vector</td>\n",
       "        <td style=\"padding-left: 1em; padding-right: 1em; text-align: center; vertical-align: top\">235</td>\n",
       "        <td style=\"padding-left: 1em; padding-right: 1em; text-align: center; vertical-align: top\">3</td>\n",
       "    </tr>\n",
       "    <tr>\n",
       "        <td style=\"padding-left: 1em; padding-right: 1em; text-align: center; vertical-align: top\">1gram</td>\n",
       "        <td style=\"padding-left: 1em; padding-right: 1em; text-align: center; vertical-align: top\">america</td>\n",
       "        <td style=\"padding-left: 1em; padding-right: 1em; text-align: center; vertical-align: top\">3</td>\n",
       "    </tr>\n",
       "    <tr>\n",
       "        <td style=\"padding-left: 1em; padding-right: 1em; text-align: center; vertical-align: top\">1gram</td>\n",
       "        <td style=\"padding-left: 1em; padding-right: 1em; text-align: center; vertical-align: top\">programs</td>\n",
       "        <td style=\"padding-left: 1em; padding-right: 1em; text-align: center; vertical-align: top\">3</td>\n",
       "    </tr>\n",
       "    <tr>\n",
       "        <td style=\"padding-left: 1em; padding-right: 1em; text-align: center; vertical-align: top\">1gram</td>\n",
       "        <td style=\"padding-left: 1em; padding-right: 1em; text-align: center; vertical-align: top\">close</td>\n",
       "        <td style=\"padding-left: 1em; padding-right: 1em; text-align: center; vertical-align: top\">3</td>\n",
       "    </tr>\n",
       "</table>\n",
       "[14376 rows x 3 columns]<br/>Note: Only the head of the SFrame is printed.<br/>You can use print_rows(num_rows=m, num_columns=n) to print more rows and columns.\n",
       "</div>"
      ],
      "text/plain": [
       "Columns:\n",
       "\tname\tstr\n",
       "\tindex\tstr\n",
       "\tcount\tint\n",
       "\n",
       "Rows: 14376\n",
       "\n",
       "Data:\n",
       "+-------------+----------+-------+\n",
       "|     name    |  index   | count |\n",
       "+-------------+----------+-------+\n",
       "| text length |   None   |   17  |\n",
       "|    Photo    |   TRUE   |   10  |\n",
       "|    1gram    |  family  |   4   |\n",
       "|    vector   |   164    |   4   |\n",
       "|    words    |   None   |   4   |\n",
       "|    1gram    |  calls   |   3   |\n",
       "|    vector   |   235    |   3   |\n",
       "|    1gram    | america  |   3   |\n",
       "|    1gram    | programs |   3   |\n",
       "|    1gram    |  close   |   3   |\n",
       "+-------------+----------+-------+\n",
       "[14376 rows x 3 columns]\n",
       "Note: Only the head of the SFrame is printed.\n",
       "You can use print_rows(num_rows=m, num_columns=n) to print more rows and columns."
      ]
     },
     "execution_count": 21,
     "metadata": {},
     "output_type": "execute_result"
    }
   ],
   "source": [
    "model.get_feature_importance()"
   ]
  },
  {
   "cell_type": "code",
   "execution_count": 22,
   "metadata": {
    "collapsed": false
   },
   "outputs": [
    {
     "data": {
      "text/plain": [
       "{'accuracy': 0.735632183908046,\n",
       " 'auc': 0.6634328358208952,\n",
       " 'confusion_matrix': Columns:\n",
       " \ttarget_label\tint\n",
       " \tpredicted_label\tint\n",
       " \tcount\tint\n",
       " \n",
       " Rows: 4\n",
       " \n",
       " Data:\n",
       " +--------------+-----------------+-------+\n",
       " | target_label | predicted_label | count |\n",
       " +--------------+-----------------+-------+\n",
       " |      1       |        1        |   5   |\n",
       " |      0       |        1        |   8   |\n",
       " |      1       |        0        |   15  |\n",
       " |      0       |        0        |   59  |\n",
       " +--------------+-----------------+-------+\n",
       " [4 rows x 3 columns],\n",
       " 'f1_score': 0.30303030303030304,\n",
       " 'log_loss': 0.5578075314505592,\n",
       " 'precision': 0.38461538461538464,\n",
       " 'recall': 0.25,\n",
       " 'roc_curve': Columns:\n",
       " \tthreshold\tfloat\n",
       " \tfpr\tfloat\n",
       " \ttpr\tfloat\n",
       " \tp\tint\n",
       " \tn\tint\n",
       " \n",
       " Rows: 100001\n",
       " \n",
       " Data:\n",
       " +-----------+-----+-----+----+----+\n",
       " | threshold | fpr | tpr | p  | n  |\n",
       " +-----------+-----+-----+----+----+\n",
       " |    0.0    | 1.0 | 1.0 | 20 | 67 |\n",
       " |   1e-05   | 1.0 | 1.0 | 20 | 67 |\n",
       " |   2e-05   | 1.0 | 1.0 | 20 | 67 |\n",
       " |   3e-05   | 1.0 | 1.0 | 20 | 67 |\n",
       " |   4e-05   | 1.0 | 1.0 | 20 | 67 |\n",
       " |   5e-05   | 1.0 | 1.0 | 20 | 67 |\n",
       " |   6e-05   | 1.0 | 1.0 | 20 | 67 |\n",
       " |   7e-05   | 1.0 | 1.0 | 20 | 67 |\n",
       " |   8e-05   | 1.0 | 1.0 | 20 | 67 |\n",
       " |   9e-05   | 1.0 | 1.0 | 20 | 67 |\n",
       " +-----------+-----+-----+----+----+\n",
       " [100001 rows x 5 columns]\n",
       " Note: Only the head of the SFrame is printed.\n",
       " You can use print_rows(num_rows=m, num_columns=n) to print more rows and columns.}"
      ]
     },
     "execution_count": 22,
     "metadata": {},
     "output_type": "execute_result"
    }
   ],
   "source": [
    "model.evaluate(sf_test)"
   ]
  },
  {
   "cell_type": "code",
   "execution_count": 51,
   "metadata": {
    "collapsed": false
   },
   "outputs": [
    {
     "data": {
      "text/plain": [
       "[15.0, 195.0, 278.0, 446.0, 4911.0]"
      ]
     },
     "execution_count": 51,
     "metadata": {},
     "output_type": "execute_result"
    }
   ],
   "source": [
    "sk = gl.Sketch(tokenized_sf['len'])\n",
    "[sk.min()\n",
    " ,sk.quantile(0.25)\n",
    " ,sk.quantile(0.5)\n",
    " ,sk.quantile(0.75)\n",
    ",sk.max()]"
   ]
  },
  {
   "cell_type": "code",
   "execution_count": 78,
   "metadata": {
    "collapsed": false
   },
   "outputs": [
    {
     "data": {
      "text/plain": [
       "[0.0, 2.0, 7.0, 41.0, 14812.0]"
      ]
     },
     "execution_count": 78,
     "metadata": {},
     "output_type": "execute_result"
    }
   ],
   "source": [
    "sk = gl.Sketch(data['votes_total'])\n",
    "[sk.min()\n",
    " ,sk.quantile(0.25)\n",
    " ,sk.quantile(0.5)\n",
    " ,sk.quantile(0.75)\n",
    ",sk.max()]"
   ]
  },
  {
   "cell_type": "code",
   "execution_count": 174,
   "metadata": {
    "collapsed": true
   },
   "outputs": [],
   "source": [
    "data['give_reason']=data['give_reason'].apply(lambda x: str(x)) \n",
    "data['give_method']=data['give_method'].apply(lambda x: str(x)) "
   ]
  },
  {
   "cell_type": "code",
   "execution_count": null,
   "metadata": {
    "collapsed": true
   },
   "outputs": [],
   "source": []
  },
  {
   "cell_type": "code",
   "execution_count": null,
   "metadata": {
    "collapsed": true
   },
   "outputs": [],
   "source": []
  },
  {
   "cell_type": "code",
   "execution_count": null,
   "metadata": {
    "collapsed": true
   },
   "outputs": [],
   "source": []
  },
  {
   "cell_type": "code",
   "execution_count": 88,
   "metadata": {
    "collapsed": false
   },
   "outputs": [],
   "source": [
    "data['target'] = data['votes_total']>40"
   ]
  },
  {
   "cell_type": "code",
   "execution_count": 178,
   "metadata": {
    "collapsed": false
   },
   "outputs": [],
   "source": [
    "h = len(data[data['target']==1])\n",
    "d = len(data[data['target']==0])"
   ]
  },
  {
   "cell_type": "code",
   "execution_count": 180,
   "metadata": {
    "collapsed": false
   },
   "outputs": [],
   "source": [
    "OR = data[['target','1gram']].stack('1gram')"
   ]
  },
  {
   "cell_type": "code",
   "execution_count": 181,
   "metadata": {
    "collapsed": true
   },
   "outputs": [],
   "source": [
    "OR['X2'] = OR['X2'].apply(lambda x: x.strip())"
   ]
  },
  {
   "cell_type": "code",
   "execution_count": 182,
   "metadata": {
    "collapsed": true
   },
   "outputs": [],
   "source": [
    "OR = OR.groupby('X2',{'he':gl.aggregate.SUM('target'),'total':gl.aggregate.COUNT})"
   ]
  },
  {
   "cell_type": "code",
   "execution_count": 183,
   "metadata": {
    "collapsed": true
   },
   "outputs": [],
   "source": [
    "OR['de'] = OR['total']-OR['he']"
   ]
  },
  {
   "cell_type": "code",
   "execution_count": 184,
   "metadata": {
    "collapsed": false
   },
   "outputs": [],
   "source": [
    "OR['hn'] = h-OR['he']"
   ]
  },
  {
   "cell_type": "code",
   "execution_count": 185,
   "metadata": {
    "collapsed": true
   },
   "outputs": [],
   "source": [
    "OR['dn'] = d-OR['de']"
   ]
  },
  {
   "cell_type": "code",
   "execution_count": 186,
   "metadata": {
    "collapsed": false
   },
   "outputs": [],
   "source": [
    "import scipy as sc\n",
    "OR['odds'] = OR.apply(lambda x: sc.stats.fisher_exact([[x['de'],x['dn']],[x['he'],x['hn']]]))\n",
    "OR = OR.unpack('odds')\n"
   ]
  },
  {
   "cell_type": "code",
   "execution_count": 187,
   "metadata": {
    "collapsed": false
   },
   "outputs": [],
   "source": [
    "OR[OR['odds.1']<=0.01].sort('odds.0').save('wordsodds.csv')"
   ]
  },
  {
   "cell_type": "code",
   "execution_count": 138,
   "metadata": {
    "collapsed": false
   },
   "outputs": [
    {
     "data": {
      "text/plain": [
       "dtype: str\n",
       "Rows: 8\n",
       "[' G96', '', 'H12', 'D34', ' E01', 'G84', ' H12', 'E99']"
      ]
     },
     "execution_count": 138,
     "metadata": {},
     "output_type": "execute_result"
    }
   ],
   "source": [
    "OR[OR['odds.1']<0.05]['X2'].unique()"
   ]
  },
  {
   "cell_type": "code",
   "execution_count": 140,
   "metadata": {
    "collapsed": false
   },
   "outputs": [
    {
     "data": {
      "text/plain": [
       "'f'"
      ]
     },
     "execution_count": 140,
     "metadata": {},
     "output_type": "execute_result"
    }
   ],
   "source": [
    "' f'.strip()"
   ]
  },
  {
   "cell_type": "code",
   "execution_count": 3,
   "metadata": {
    "collapsed": true
   },
   "outputs": [],
   "source": [
    "import gensim\n",
    "w2v = gensim.models.Word2Vec.load_word2vec_format('GoogleNews-vectors-negative300.bin/GoogleNews-vectors-negative300.bin', binary=True)"
   ]
  },
  {
   "cell_type": "code",
   "execution_count": 4,
   "metadata": {
    "collapsed": false
   },
   "outputs": [],
   "source": []
  },
  {
   "cell_type": "code",
   "execution_count": 5,
   "metadata": {
    "collapsed": false
   },
   "outputs": [
    {
     "data": {
      "text/plain": [
       "[(u'birds', 0.8141970634460449),\n",
       " (u'raptor', 0.6830928325653076),\n",
       " (u'owl', 0.6825829148292542),\n",
       " (u'squirrel', 0.6653631329536438),\n",
       " (u'falcon', 0.6649248600006104),\n",
       " (u'raptors', 0.6613034605979919),\n",
       " (u'bald_eagle', 0.6493616104125977),\n",
       " (u'robin', 0.6482654809951782),\n",
       " (u'pelican', 0.6474649310112),\n",
       " (u'avian', 0.6436793208122253)]"
      ]
     },
     "execution_count": 5,
     "metadata": {},
     "output_type": "execute_result"
    }
   ],
   "source": [
    "w2v.most_similar('bird')"
   ]
  },
  {
   "cell_type": "code",
   "execution_count": 8,
   "metadata": {
    "collapsed": true
   },
   "outputs": [],
   "source": [
    "import numpy as np"
   ]
  },
  {
   "cell_type": "code",
   "execution_count": 104,
   "metadata": {
    "collapsed": false
   },
   "outputs": [
    {
     "data": {
      "text/html": [
       "<pre>Starting brute force nearest neighbors model training.</pre>"
      ],
      "text/plain": [
       "Starting brute force nearest neighbors model training."
      ]
     },
     "metadata": {},
     "output_type": "display_data"
    }
   ],
   "source": [
    "kmodel = gl.nearest_neighbors.create(data, features=['vector'],distance='cosine')"
   ]
  },
  {
   "cell_type": "code",
   "execution_count": 148,
   "metadata": {
    "collapsed": true
   },
   "outputs": [],
   "source": [
    "data = data.add_row_number()"
   ]
  },
  {
   "cell_type": "code",
   "execution_count": 150,
   "metadata": {
    "collapsed": false
   },
   "outputs": [],
   "source": [
    "data[['id','target']].save('storyvert.csv')"
   ]
  },
  {
   "cell_type": "code",
   "execution_count": 147,
   "metadata": {
    "collapsed": false
   },
   "outputs": [
    {
     "data": {
      "text/html": [
       "<pre>Starting blockwise similarity graph construction.</pre>"
      ],
      "text/plain": [
       "Starting blockwise similarity graph construction."
      ]
     },
     "metadata": {},
     "output_type": "display_data"
    },
    {
     "data": {
      "text/html": [
       "<pre>max rows per data block: 7893</pre>"
      ],
      "text/plain": [
       "max rows per data block: 7893"
      ]
     },
     "metadata": {},
     "output_type": "display_data"
    },
    {
     "data": {
      "text/html": [
       "<pre>number of reference data blocks: 4</pre>"
      ],
      "text/plain": [
       "number of reference data blocks: 4"
      ]
     },
     "metadata": {},
     "output_type": "display_data"
    },
    {
     "data": {
      "text/html": [
       "<pre>+---------+-------------+--------------+</pre>"
      ],
      "text/plain": [
       "+---------+-------------+--------------+"
      ]
     },
     "metadata": {},
     "output_type": "display_data"
    },
    {
     "data": {
      "text/html": [
       "<pre>| # Pairs | % Complete. | Elapsed Time |</pre>"
      ],
      "text/plain": [
       "| # Pairs | % Complete. | Elapsed Time |"
      ]
     },
     "metadata": {},
     "output_type": "display_data"
    },
    {
     "data": {
      "text/html": [
       "<pre>+---------+-------------+--------------+</pre>"
      ],
      "text/plain": [
       "+---------+-------------+--------------+"
      ]
     },
     "metadata": {},
     "output_type": "display_data"
    },
    {
     "data": {
      "text/html": [
       "<pre>| 126691  | 29.8546     | 9.999ms      |</pre>"
      ],
      "text/plain": [
       "| 126691  | 29.8546     | 9.999ms      |"
      ]
     },
     "metadata": {},
     "output_type": "display_data"
    },
    {
     "data": {
      "text/html": [
       "<pre>| 424360  | 100         | 39ms         |</pre>"
      ],
      "text/plain": [
       "| 424360  | 100         | 39ms         |"
      ]
     },
     "metadata": {},
     "output_type": "display_data"
    },
    {
     "data": {
      "text/html": [
       "<pre>+---------+-------------+--------------+</pre>"
      ],
      "text/plain": [
       "+---------+-------------+--------------+"
      ]
     },
     "metadata": {},
     "output_type": "display_data"
    }
   ],
   "source": [
    "kmodel.similarity_graph().edges.save('storyedg.csv')\n"
   ]
  },
  {
   "cell_type": "code",
   "execution_count": 137,
   "metadata": {
    "collapsed": false
   },
   "outputs": [
    {
     "data": {
      "text/html": [
       "<pre>Starting pairwise querying.</pre>"
      ],
      "text/plain": [
       "Starting pairwise querying."
      ]
     },
     "metadata": {},
     "output_type": "display_data"
    },
    {
     "data": {
      "text/html": [
       "<pre>+--------------+---------+-------------+--------------+</pre>"
      ],
      "text/plain": [
       "+--------------+---------+-------------+--------------+"
      ]
     },
     "metadata": {},
     "output_type": "display_data"
    },
    {
     "data": {
      "text/html": [
       "<pre>| Query points | # Pairs | % Complete. | Elapsed Time |</pre>"
      ],
      "text/plain": [
       "| Query points | # Pairs | % Complete. | Elapsed Time |"
      ]
     },
     "metadata": {},
     "output_type": "display_data"
    },
    {
     "data": {
      "text/html": [
       "<pre>+--------------+---------+-------------+--------------+</pre>"
      ],
      "text/plain": [
       "+--------------+---------+-------------+--------------+"
      ]
     },
     "metadata": {},
     "output_type": "display_data"
    },
    {
     "data": {
      "text/html": [
       "<pre>| 0            | 1       | 0.121507    | 1ms          |</pre>"
      ],
      "text/plain": [
       "| 0            | 1       | 0.121507    | 1ms          |"
      ]
     },
     "metadata": {},
     "output_type": "display_data"
    },
    {
     "data": {
      "text/html": [
       "<pre>| Done         |         | 100         | 7.999ms      |</pre>"
      ],
      "text/plain": [
       "| Done         |         | 100         | 7.999ms      |"
      ]
     },
     "metadata": {},
     "output_type": "display_data"
    },
    {
     "data": {
      "text/html": [
       "<pre>+--------------+---------+-------------+--------------+</pre>"
      ],
      "text/plain": [
       "+--------------+---------+-------------+--------------+"
      ]
     },
     "metadata": {},
     "output_type": "display_data"
    },
    {
     "data": {
      "text/html": [
       "<div style=\"max-height:1000px;max-width:1500px;overflow:auto;\"><table frame=\"box\" rules=\"cols\">\n",
       "    <tr>\n",
       "        <th style=\"padding-left: 1em; padding-right: 1em; text-align: center\">query_label</th>\n",
       "        <th style=\"padding-left: 1em; padding-right: 1em; text-align: center\">reference_label</th>\n",
       "        <th style=\"padding-left: 1em; padding-right: 1em; text-align: center\">distance</th>\n",
       "        <th style=\"padding-left: 1em; padding-right: 1em; text-align: center\">rank</th>\n",
       "    </tr>\n",
       "    <tr>\n",
       "        <td style=\"padding-left: 1em; padding-right: 1em; text-align: center; vertical-align: top\">0</td>\n",
       "        <td style=\"padding-left: 1em; padding-right: 1em; text-align: center; vertical-align: top\">686</td>\n",
       "        <td style=\"padding-left: 1em; padding-right: 1em; text-align: center; vertical-align: top\">0.271525086782</td>\n",
       "        <td style=\"padding-left: 1em; padding-right: 1em; text-align: center; vertical-align: top\">1</td>\n",
       "    </tr>\n",
       "    <tr>\n",
       "        <td style=\"padding-left: 1em; padding-right: 1em; text-align: center; vertical-align: top\">0</td>\n",
       "        <td style=\"padding-left: 1em; padding-right: 1em; text-align: center; vertical-align: top\">599</td>\n",
       "        <td style=\"padding-left: 1em; padding-right: 1em; text-align: center; vertical-align: top\">0.27159025233</td>\n",
       "        <td style=\"padding-left: 1em; padding-right: 1em; text-align: center; vertical-align: top\">2</td>\n",
       "    </tr>\n",
       "</table>\n",
       "[2 rows x 4 columns]<br/>\n",
       "</div>"
      ],
      "text/plain": [
       "Columns:\n",
       "\tquery_label\tint\n",
       "\treference_label\tint\n",
       "\tdistance\tfloat\n",
       "\trank\tint\n",
       "\n",
       "Rows: 2\n",
       "\n",
       "Data:\n",
       "+-------------+-----------------+----------------+------+\n",
       "| query_label | reference_label |    distance    | rank |\n",
       "+-------------+-----------------+----------------+------+\n",
       "|      0      |       686       | 0.271525086782 |  1   |\n",
       "|      0      |       599       | 0.27159025233  |  2   |\n",
       "+-------------+-----------------+----------------+------+\n",
       "[2 rows x 4 columns]"
      ]
     },
     "execution_count": 137,
     "metadata": {},
     "output_type": "execute_result"
    }
   ],
   "source": [
    "kmodel.query(inp, k=2).tail()"
   ]
  },
  {
   "cell_type": "code",
   "execution_count": 139,
   "metadata": {
    "collapsed": false
   },
   "outputs": [
    {
     "data": {
      "text/html": [
       "<pre>Starting pairwise querying.</pre>"
      ],
      "text/plain": [
       "Starting pairwise querying."
      ]
     },
     "metadata": {},
     "output_type": "display_data"
    },
    {
     "data": {
      "text/html": [
       "<pre>+--------------+---------+-------------+--------------+</pre>"
      ],
      "text/plain": [
       "+--------------+---------+-------------+--------------+"
      ]
     },
     "metadata": {},
     "output_type": "display_data"
    },
    {
     "data": {
      "text/html": [
       "<pre>| Query points | # Pairs | % Complete. | Elapsed Time |</pre>"
      ],
      "text/plain": [
       "| Query points | # Pairs | % Complete. | Elapsed Time |"
      ]
     },
     "metadata": {},
     "output_type": "display_data"
    },
    {
     "data": {
      "text/html": [
       "<pre>+--------------+---------+-------------+--------------+</pre>"
      ],
      "text/plain": [
       "+--------------+---------+-------------+--------------+"
      ]
     },
     "metadata": {},
     "output_type": "display_data"
    },
    {
     "data": {
      "text/html": [
       "<pre>| 0            | 1       | 0.121507    | 1.001ms      |</pre>"
      ],
      "text/plain": [
       "| 0            | 1       | 0.121507    | 1.001ms      |"
      ]
     },
     "metadata": {},
     "output_type": "display_data"
    },
    {
     "data": {
      "text/html": [
       "<pre>| Done         |         | 100         | 8ms          |</pre>"
      ],
      "text/plain": [
       "| Done         |         | 100         | 8ms          |"
      ]
     },
     "metadata": {},
     "output_type": "display_data"
    },
    {
     "data": {
      "text/html": [
       "<pre>+--------------+---------+-------------+--------------+</pre>"
      ],
      "text/plain": [
       "+--------------+---------+-------------+--------------+"
      ]
     },
     "metadata": {},
     "output_type": "display_data"
    },
    {
     "data": {
      "text/html": [
       "<div style=\"max-height:1000px;max-width:1500px;overflow:auto;\"><table frame=\"box\" rules=\"cols\">\n",
       "    <tr>\n",
       "        <th style=\"padding-left: 1em; padding-right: 1em; text-align: center\">query_label</th>\n",
       "        <th style=\"padding-left: 1em; padding-right: 1em; text-align: center\">reference_label</th>\n",
       "        <th style=\"padding-left: 1em; padding-right: 1em; text-align: center\">distance</th>\n",
       "        <th style=\"padding-left: 1em; padding-right: 1em; text-align: center\">rank</th>\n",
       "    </tr>\n",
       "    <tr>\n",
       "        <td style=\"padding-left: 1em; padding-right: 1em; text-align: center; vertical-align: top\">0</td>\n",
       "        <td style=\"padding-left: 1em; padding-right: 1em; text-align: center; vertical-align: top\">520</td>\n",
       "        <td style=\"padding-left: 1em; padding-right: 1em; text-align: center; vertical-align: top\">0.35133983728</td>\n",
       "        <td style=\"padding-left: 1em; padding-right: 1em; text-align: center; vertical-align: top\">1</td>\n",
       "    </tr>\n",
       "    <tr>\n",
       "        <td style=\"padding-left: 1em; padding-right: 1em; text-align: center; vertical-align: top\">0</td>\n",
       "        <td style=\"padding-left: 1em; padding-right: 1em; text-align: center; vertical-align: top\">30</td>\n",
       "        <td style=\"padding-left: 1em; padding-right: 1em; text-align: center; vertical-align: top\">0.399923659875</td>\n",
       "        <td style=\"padding-left: 1em; padding-right: 1em; text-align: center; vertical-align: top\">2</td>\n",
       "    </tr>\n",
       "</table>\n",
       "[2 rows x 4 columns]<br/>\n",
       "</div>"
      ],
      "text/plain": [
       "Columns:\n",
       "\tquery_label\tint\n",
       "\treference_label\tint\n",
       "\tdistance\tfloat\n",
       "\trank\tint\n",
       "\n",
       "Rows: 2\n",
       "\n",
       "Data:\n",
       "+-------------+-----------------+----------------+------+\n",
       "| query_label | reference_label |    distance    | rank |\n",
       "+-------------+-----------------+----------------+------+\n",
       "|      0      |       520       | 0.35133983728  |  1   |\n",
       "|      0      |        30       | 0.399923659875 |  2   |\n",
       "+-------------+-----------------+----------------+------+\n",
       "[2 rows x 4 columns]"
      ]
     },
     "execution_count": 139,
     "metadata": {},
     "output_type": "execute_result"
    }
   ],
   "source": [
    "interests = {'health':1\n",
    "             ,'women':1\n",
    "             ,'education':1\n",
    "            }\n",
    "sft = gl.SFrame()\n",
    "sft['vector'] = [getvec2(interests)]\n",
    "kmodel.query(sft, k=2).tail()"
   ]
  },
  {
   "cell_type": "code",
   "execution_count": 132,
   "metadata": {
    "collapsed": false
   },
   "outputs": [
    {
     "data": {
      "text/html": [
       "<pre>Starting pairwise querying.</pre>"
      ],
      "text/plain": [
       "Starting pairwise querying."
      ]
     },
     "metadata": {},
     "output_type": "display_data"
    },
    {
     "data": {
      "text/html": [
       "<pre>+--------------+---------+-------------+--------------+</pre>"
      ],
      "text/plain": [
       "+--------------+---------+-------------+--------------+"
      ]
     },
     "metadata": {},
     "output_type": "display_data"
    },
    {
     "data": {
      "text/html": [
       "<pre>| Query points | # Pairs | % Complete. | Elapsed Time |</pre>"
      ],
      "text/plain": [
       "| Query points | # Pairs | % Complete. | Elapsed Time |"
      ]
     },
     "metadata": {},
     "output_type": "display_data"
    },
    {
     "data": {
      "text/html": [
       "<pre>+--------------+---------+-------------+--------------+</pre>"
      ],
      "text/plain": [
       "+--------------+---------+-------------+--------------+"
      ]
     },
     "metadata": {},
     "output_type": "display_data"
    },
    {
     "data": {
      "text/html": [
       "<pre>| 0            | 1       | 0.121507    | 1ms          |</pre>"
      ],
      "text/plain": [
       "| 0            | 1       | 0.121507    | 1ms          |"
      ]
     },
     "metadata": {},
     "output_type": "display_data"
    },
    {
     "data": {
      "text/html": [
       "<pre>| Done         |         | 100         | 7.001ms      |</pre>"
      ],
      "text/plain": [
       "| Done         |         | 100         | 7.001ms      |"
      ]
     },
     "metadata": {},
     "output_type": "display_data"
    },
    {
     "data": {
      "text/html": [
       "<pre>+--------------+---------+-------------+--------------+</pre>"
      ],
      "text/plain": [
       "+--------------+---------+-------------+--------------+"
      ]
     },
     "metadata": {},
     "output_type": "display_data"
    },
    {
     "data": {
      "text/html": [
       "<div style=\"max-height:1000px;max-width:1500px;overflow:auto;\"><table frame=\"box\" rules=\"cols\">\n",
       "    <tr>\n",
       "        <th style=\"padding-left: 1em; padding-right: 1em; text-align: center\">query_label</th>\n",
       "        <th style=\"padding-left: 1em; padding-right: 1em; text-align: center\">reference_label</th>\n",
       "        <th style=\"padding-left: 1em; padding-right: 1em; text-align: center\">distance</th>\n",
       "        <th style=\"padding-left: 1em; padding-right: 1em; text-align: center\">rank</th>\n",
       "    </tr>\n",
       "    <tr>\n",
       "        <td style=\"padding-left: 1em; padding-right: 1em; text-align: center; vertical-align: top\">0</td>\n",
       "        <td style=\"padding-left: 1em; padding-right: 1em; text-align: center; vertical-align: top\">520</td>\n",
       "        <td style=\"padding-left: 1em; padding-right: 1em; text-align: center; vertical-align: top\">0.0</td>\n",
       "        <td style=\"padding-left: 1em; padding-right: 1em; text-align: center; vertical-align: top\">1</td>\n",
       "    </tr>\n",
       "    <tr>\n",
       "        <td style=\"padding-left: 1em; padding-right: 1em; text-align: center; vertical-align: top\">0</td>\n",
       "        <td style=\"padding-left: 1em; padding-right: 1em; text-align: center; vertical-align: top\">646</td>\n",
       "        <td style=\"padding-left: 1em; padding-right: 1em; text-align: center; vertical-align: top\">0.12341007222</td>\n",
       "        <td style=\"padding-left: 1em; padding-right: 1em; text-align: center; vertical-align: top\">2</td>\n",
       "    </tr>\n",
       "</table>\n",
       "[2 rows x 4 columns]<br/>\n",
       "</div>"
      ],
      "text/plain": [
       "Columns:\n",
       "\tquery_label\tint\n",
       "\treference_label\tint\n",
       "\tdistance\tfloat\n",
       "\trank\tint\n",
       "\n",
       "Rows: 2\n",
       "\n",
       "Data:\n",
       "+-------------+-----------------+---------------+------+\n",
       "| query_label | reference_label |    distance   | rank |\n",
       "+-------------+-----------------+---------------+------+\n",
       "|      0      |       520       |      0.0      |  1   |\n",
       "|      0      |       646       | 0.12341007222 |  2   |\n",
       "+-------------+-----------------+---------------+------+\n",
       "[2 rows x 4 columns]"
      ]
     },
     "execution_count": 132,
     "metadata": {},
     "output_type": "execute_result"
    }
   ],
   "source": [
    "which = 520\n",
    "kmodel.query(data[which:which+1], k=2).tail()"
   ]
  },
  {
   "cell_type": "code",
   "execution_count": 141,
   "metadata": {
    "collapsed": false
   },
   "outputs": [
    {
     "data": {
      "text/plain": [
       "(\"Time, Talent, Treasure\\n\\nAbout 35 years ago I found an organization that I feel is doing important work in our community.  At the time, women who were pregnant out of marriage were given few choices and often had to 'go live with an aunt' to protect the family's reputation in their community.  Fortunately this stigma has changed in our society, but the problems a woman faces in a crisis pregnancy have not.\\n\\nWhen Crisis Pregnancy Outreach (www.cpotulsa.org) began in the early 1980s, many of the women who came to us were teenagers who did not want to have an abortion.  Today, CPO works in coordination with local hospitals and operates a 24 hour hotline.  The majority of woman we now serve are homeless; addicted to drugs/alcohol, gambling, or relationships; physically abused; and/or are totally alone.  \\n\\nWhat I love about CPO is that we make a lifetime commitment to these women.  It is not just about the 9 months of pregnancy. This crisis brings women to CPO, but this is only the presenting problem. Our goal is to provide the services necessary to help women move forward out of a very difficult situation to live heathy, productive lives. CPO provides a plethora of programs, which include, living assistance (utilities, food, clothing); childbirth classes, educational and employment assistance, life skills seminars, medical care with a private physician and dentist, mentoring, parenting classes, transportation, weekly support groups, and a storage area with maternity/children clothes, child-rearing supplies (cribs, diapers, toys, et al), and furniture. \\n\\nCPO facilitates a mentoring program that forms relationships between the CPO women and other women/mothers.  These volunteers meet with them weekly and often incorporate them into their own family activities.  The purpose of this relationship is to encourage healthy living, academic achievement, and generate educational and career interests. CPO began as a grassroots organization, but has continued to develop into a well-run organization where I am proud to volunteer.\\n\\nSince the beginning, some of the women stay in volunteer homes, some continue to live on their own, but as we grew, CPO was also able to purchase a Transitional Home where up to eight woman at a time can live. This is a lovely residential home where the women are provided three meals a day, a study area, medicines, transportation to appointments, schooling, tutoring, counseling and mentoring. Once a birth mother is settled in, she is encouraged to begin advancing her education by going to school (high school, tech, or college) or taking the GED.  She also is provided a personal, professional counselor who she can see at no charge.  What a privilege it is to see women put into practice what they learn and become more self-sufficient.  Many holding jobs for the first time and purchasing their first cars!\\n  \\nDuring the time the birth mother is pregnant, she makes a very difficult decision to raise or relinquish her child. If she chooses to relinquish her child, the mother looks through life-books submitted by the adoptive families and selects her babys family.  These are open adoptions, which means she will have a relationship with the family and her child.  Most years CPO facilitates 20 -30 adoptions. We offer programs for waiting/adoptive parents, conduct interviews and home visits, provide workshops, support groups, mentoring, and hosting for out-of-town families. It is so heartwarming to see the adoptive parents, the birth mother, and the child come to love and respect each other.  It is a process that also requires lots of work and emotional risk on everyone's part, but CPO is committed to the children to provide for them a loving home AND the knowledge of where they came from.\\n\\nIn the last few years, more women are choosing to parent as single mothers. CPO has expanded our services to meet the many needs of these women to provide healthy, safe homes for their children. We teach classes to prepare her to be intentional in her child-rearing practices; we help her get started living on her own; and CPO continues to provide counseling and support groups for as long as the mother is willing to attend. Many CPO women stay in Tulsa and continue counseling, attend parenting classes/small groups, finish their education, and become part of the CPO community -- helping each other. We now have children who were born with CPO who are in their 30s.  What a joy to see the adults they have become and to know that we have played a small part in giving them a positive future.\\n\\nFinally, what I love about CPO, and why I am willing to invest my time, talent, and treasure with this organization is that it is 100% volunteer.  In 35 years, no one has received a salary.  All the monies raised go directly to helping women and children and the tangible expenses to run the office and the transitional home.  What a privilege to watch these many loving, talented and dedicated women come alongside another woman in crisis and walk with her through one of the most traumatic times in her life.  Many are available 24 hours a day to go to the hospital, answer the hotline, provide transportation, baby showers, and events for the children.  Many of these volunteers have been with CPO for 10 - 25 years, a few for all 35 years.  They are seasoned, loving women who understand the unique struggles of being a young woman in a crisis situation.  My role has been small compared to the sacrifices of their time, talents, and treasure; nevertheless, I have reaped a deep sense of hope for our future as I watch lives changed for the better with CPOs caring human touch.\\n\\n\\n\\n\",\n",
       " 94L)"
      ]
     },
     "execution_count": 141,
     "metadata": {},
     "output_type": "execute_result"
    }
   ],
   "source": [
    "which = 646\n",
    "data['Story_Text'][which], data['votes_total'][which]"
   ]
  },
  {
   "cell_type": "code",
   "execution_count": 138,
   "metadata": {
    "collapsed": false,
    "scrolled": true
   },
   "outputs": [
    {
     "data": {
      "text/plain": [
       "('My name is Jenny Oveson, Im 28 years old, and I was born with Spina Bifida.  I wanted to write you to tell you about an organization that has grown to mean so much to me.  As a young child, I watched my father make it his mission in life to better the lives of people with disabilities and our families.  He is achieving this as Director of Family Support.  Family Support, the home of the Individual & Family Support program in south Alabama provides financial assistance for medical, dental, prescriptions, supplies, utilities, food, clothing, housing, holiday gifts, ramps, home modifications/repairs, transportation costs including auto repairs, conference expenses, summer camps, education, respite, recreation, etc.  Also information, moral support and referrals may be provided to help families access other programs of assistance.  Family Support works to enhance the lives of Alabamians with disabilities and their families.  Their success is measured in the number of people they can help with the quality of programs and services they provide.  These programs are fueled by our dedicated staff, caring volunteers, and generous donors.',\n",
       " 0L)"
      ]
     },
     "execution_count": 138,
     "metadata": {},
     "output_type": "execute_result"
    }
   ],
   "source": [
    "which =686\n",
    "data['Story_Text'][which], data['votes_total'][which]"
   ]
  },
  {
   "cell_type": "code",
   "execution_count": null,
   "metadata": {
    "collapsed": true
   },
   "outputs": [],
   "source": []
  }
 ],
 "metadata": {
  "kernelspec": {
   "display_name": "Python 2",
   "language": "python",
   "name": "python2"
  },
  "language_info": {
   "codemirror_mode": {
    "name": "ipython",
    "version": 2
   },
   "file_extension": ".py",
   "mimetype": "text/x-python",
   "name": "python",
   "nbconvert_exporter": "python",
   "pygments_lexer": "ipython2",
   "version": "2.7.10"
  }
 },
 "nbformat": 4,
 "nbformat_minor": 0
}
